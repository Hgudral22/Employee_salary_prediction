{
  "metadata": {
    "kernelspec": {
      "name": "python",
      "display_name": "Python (Pyodide)",
      "language": "python"
    },
    "language_info": {
      "codemirror_mode": {
        "name": "python",
        "version": 3
      },
      "file_extension": ".py",
      "mimetype": "text/x-python",
      "name": "python",
      "nbconvert_exporter": "python",
      "pygments_lexer": "ipython3",
      "version": "3.8"
    },
    "colab": {
      "provenance": []
    }
  },
  "nbformat_minor": 5,
  "nbformat": 4,
  "cells": [
    {
      "id": "c2eab7ba-5b1d-42a6-b0b4-7c1fbf3c7d2a",
      "cell_type": "code",
      "source": [
        "import pandas as pd"
      ],
      "metadata": {
        "trusted": true,
        "id": "c2eab7ba-5b1d-42a6-b0b4-7c1fbf3c7d2a"
      },
      "outputs": [],
      "execution_count": null
    },
    {
      "id": "c88e2e31-8635-4880-b543-a0c41e79fc42",
      "cell_type": "code",
      "source": [
        "data=pd.read_csv(r\"adult 3.csv\")"
      ],
      "metadata": {
        "trusted": true,
        "id": "c88e2e31-8635-4880-b543-a0c41e79fc42"
      },
      "outputs": [],
      "execution_count": null
    },
    {
      "id": "86d072c4-bfd7-4942-b839-90c8a579131b",
      "cell_type": "code",
      "source": [
        "data"
      ],
      "metadata": {
        "trusted": true,
        "id": "86d072c4-bfd7-4942-b839-90c8a579131b",
        "outputId": "d07dea8f-98dd-480b-f473-d54600795008"
      },
      "outputs": [
        {
          "execution_count": 3,
          "output_type": "execute_result",
          "data": {
            "text/plain": "       age     workclass  fnlwgt     education  educational-num  \\\n0       25       Private  226802          11th                7   \n1       38       Private   89814       HS-grad                9   \n2       28     Local-gov  336951    Assoc-acdm               12   \n3       44       Private  160323  Some-college               10   \n4       18             ?  103497  Some-college               10   \n...    ...           ...     ...           ...              ...   \n48837   27       Private  257302    Assoc-acdm               12   \n48838   40       Private  154374       HS-grad                9   \n48839   58       Private  151910       HS-grad                9   \n48840   22       Private  201490       HS-grad                9   \n48841   52  Self-emp-inc  287927       HS-grad                9   \n\n           marital-status         occupation relationship   race  gender  \\\n0           Never-married  Machine-op-inspct    Own-child  Black    Male   \n1      Married-civ-spouse    Farming-fishing      Husband  White    Male   \n2      Married-civ-spouse    Protective-serv      Husband  White    Male   \n3      Married-civ-spouse  Machine-op-inspct      Husband  Black    Male   \n4           Never-married                  ?    Own-child  White  Female   \n...                   ...                ...          ...    ...     ...   \n48837  Married-civ-spouse       Tech-support         Wife  White  Female   \n48838  Married-civ-spouse  Machine-op-inspct      Husband  White    Male   \n48839             Widowed       Adm-clerical    Unmarried  White  Female   \n48840       Never-married       Adm-clerical    Own-child  White    Male   \n48841  Married-civ-spouse    Exec-managerial         Wife  White  Female   \n\n       capital-gain  capital-loss  hours-per-week native-country income  \n0                 0             0              40  United-States  <=50K  \n1                 0             0              50  United-States  <=50K  \n2                 0             0              40  United-States   >50K  \n3              7688             0              40  United-States   >50K  \n4                 0             0              30  United-States  <=50K  \n...             ...           ...             ...            ...    ...  \n48837             0             0              38  United-States  <=50K  \n48838             0             0              40  United-States   >50K  \n48839             0             0              40  United-States  <=50K  \n48840             0             0              20  United-States  <=50K  \n48841         15024             0              40  United-States   >50K  \n\n[48842 rows x 15 columns]",
            "text/html": "<div>\n<style scoped>\n    .dataframe tbody tr th:only-of-type {\n        vertical-align: middle;\n    }\n\n    .dataframe tbody tr th {\n        vertical-align: top;\n    }\n\n    .dataframe thead th {\n        text-align: right;\n    }\n</style>\n<table border=\"1\" class=\"dataframe\">\n  <thead>\n    <tr style=\"text-align: right;\">\n      <th></th>\n      <th>age</th>\n      <th>workclass</th>\n      <th>fnlwgt</th>\n      <th>education</th>\n      <th>educational-num</th>\n      <th>marital-status</th>\n      <th>occupation</th>\n      <th>relationship</th>\n      <th>race</th>\n      <th>gender</th>\n      <th>capital-gain</th>\n      <th>capital-loss</th>\n      <th>hours-per-week</th>\n      <th>native-country</th>\n      <th>income</th>\n    </tr>\n  </thead>\n  <tbody>\n    <tr>\n      <th>0</th>\n      <td>25</td>\n      <td>Private</td>\n      <td>226802</td>\n      <td>11th</td>\n      <td>7</td>\n      <td>Never-married</td>\n      <td>Machine-op-inspct</td>\n      <td>Own-child</td>\n      <td>Black</td>\n      <td>Male</td>\n      <td>0</td>\n      <td>0</td>\n      <td>40</td>\n      <td>United-States</td>\n      <td>&lt;=50K</td>\n    </tr>\n    <tr>\n      <th>1</th>\n      <td>38</td>\n      <td>Private</td>\n      <td>89814</td>\n      <td>HS-grad</td>\n      <td>9</td>\n      <td>Married-civ-spouse</td>\n      <td>Farming-fishing</td>\n      <td>Husband</td>\n      <td>White</td>\n      <td>Male</td>\n      <td>0</td>\n      <td>0</td>\n      <td>50</td>\n      <td>United-States</td>\n      <td>&lt;=50K</td>\n    </tr>\n    <tr>\n      <th>2</th>\n      <td>28</td>\n      <td>Local-gov</td>\n      <td>336951</td>\n      <td>Assoc-acdm</td>\n      <td>12</td>\n      <td>Married-civ-spouse</td>\n      <td>Protective-serv</td>\n      <td>Husband</td>\n      <td>White</td>\n      <td>Male</td>\n      <td>0</td>\n      <td>0</td>\n      <td>40</td>\n      <td>United-States</td>\n      <td>&gt;50K</td>\n    </tr>\n    <tr>\n      <th>3</th>\n      <td>44</td>\n      <td>Private</td>\n      <td>160323</td>\n      <td>Some-college</td>\n      <td>10</td>\n      <td>Married-civ-spouse</td>\n      <td>Machine-op-inspct</td>\n      <td>Husband</td>\n      <td>Black</td>\n      <td>Male</td>\n      <td>7688</td>\n      <td>0</td>\n      <td>40</td>\n      <td>United-States</td>\n      <td>&gt;50K</td>\n    </tr>\n    <tr>\n      <th>4</th>\n      <td>18</td>\n      <td>?</td>\n      <td>103497</td>\n      <td>Some-college</td>\n      <td>10</td>\n      <td>Never-married</td>\n      <td>?</td>\n      <td>Own-child</td>\n      <td>White</td>\n      <td>Female</td>\n      <td>0</td>\n      <td>0</td>\n      <td>30</td>\n      <td>United-States</td>\n      <td>&lt;=50K</td>\n    </tr>\n    <tr>\n      <th>...</th>\n      <td>...</td>\n      <td>...</td>\n      <td>...</td>\n      <td>...</td>\n      <td>...</td>\n      <td>...</td>\n      <td>...</td>\n      <td>...</td>\n      <td>...</td>\n      <td>...</td>\n      <td>...</td>\n      <td>...</td>\n      <td>...</td>\n      <td>...</td>\n      <td>...</td>\n    </tr>\n    <tr>\n      <th>48837</th>\n      <td>27</td>\n      <td>Private</td>\n      <td>257302</td>\n      <td>Assoc-acdm</td>\n      <td>12</td>\n      <td>Married-civ-spouse</td>\n      <td>Tech-support</td>\n      <td>Wife</td>\n      <td>White</td>\n      <td>Female</td>\n      <td>0</td>\n      <td>0</td>\n      <td>38</td>\n      <td>United-States</td>\n      <td>&lt;=50K</td>\n    </tr>\n    <tr>\n      <th>48838</th>\n      <td>40</td>\n      <td>Private</td>\n      <td>154374</td>\n      <td>HS-grad</td>\n      <td>9</td>\n      <td>Married-civ-spouse</td>\n      <td>Machine-op-inspct</td>\n      <td>Husband</td>\n      <td>White</td>\n      <td>Male</td>\n      <td>0</td>\n      <td>0</td>\n      <td>40</td>\n      <td>United-States</td>\n      <td>&gt;50K</td>\n    </tr>\n    <tr>\n      <th>48839</th>\n      <td>58</td>\n      <td>Private</td>\n      <td>151910</td>\n      <td>HS-grad</td>\n      <td>9</td>\n      <td>Widowed</td>\n      <td>Adm-clerical</td>\n      <td>Unmarried</td>\n      <td>White</td>\n      <td>Female</td>\n      <td>0</td>\n      <td>0</td>\n      <td>40</td>\n      <td>United-States</td>\n      <td>&lt;=50K</td>\n    </tr>\n    <tr>\n      <th>48840</th>\n      <td>22</td>\n      <td>Private</td>\n      <td>201490</td>\n      <td>HS-grad</td>\n      <td>9</td>\n      <td>Never-married</td>\n      <td>Adm-clerical</td>\n      <td>Own-child</td>\n      <td>White</td>\n      <td>Male</td>\n      <td>0</td>\n      <td>0</td>\n      <td>20</td>\n      <td>United-States</td>\n      <td>&lt;=50K</td>\n    </tr>\n    <tr>\n      <th>48841</th>\n      <td>52</td>\n      <td>Self-emp-inc</td>\n      <td>287927</td>\n      <td>HS-grad</td>\n      <td>9</td>\n      <td>Married-civ-spouse</td>\n      <td>Exec-managerial</td>\n      <td>Wife</td>\n      <td>White</td>\n      <td>Female</td>\n      <td>15024</td>\n      <td>0</td>\n      <td>40</td>\n      <td>United-States</td>\n      <td>&gt;50K</td>\n    </tr>\n  </tbody>\n</table>\n<p>48842 rows × 15 columns</p>\n</div>"
          },
          "metadata": {}
        }
      ],
      "execution_count": null
    },
    {
      "id": "7256a66a-399f-4510-90fa-6ca0dd7b6d1c",
      "cell_type": "code",
      "source": [
        "data.shape\n"
      ],
      "metadata": {
        "trusted": true,
        "id": "7256a66a-399f-4510-90fa-6ca0dd7b6d1c"
      },
      "outputs": [],
      "execution_count": null
    },
    {
      "id": "c97d9273-3feb-4b3a-b2a7-dbba71c4d9ce",
      "cell_type": "code",
      "source": [
        "data.head()"
      ],
      "metadata": {
        "trusted": true,
        "id": "c97d9273-3feb-4b3a-b2a7-dbba71c4d9ce",
        "outputId": "ccc5ae9f-c461-49c1-814d-0aa20706fbad"
      },
      "outputs": [
        {
          "execution_count": 4,
          "output_type": "execute_result",
          "data": {
            "text/plain": "   age  workclass  fnlwgt     education  educational-num      marital-status  \\\n0   25    Private  226802          11th                7       Never-married   \n1   38    Private   89814       HS-grad                9  Married-civ-spouse   \n2   28  Local-gov  336951    Assoc-acdm               12  Married-civ-spouse   \n3   44    Private  160323  Some-college               10  Married-civ-spouse   \n4   18          ?  103497  Some-college               10       Never-married   \n\n          occupation relationship   race  gender  capital-gain  capital-loss  \\\n0  Machine-op-inspct    Own-child  Black    Male             0             0   \n1    Farming-fishing      Husband  White    Male             0             0   \n2    Protective-serv      Husband  White    Male             0             0   \n3  Machine-op-inspct      Husband  Black    Male          7688             0   \n4                  ?    Own-child  White  Female             0             0   \n\n   hours-per-week native-country income  \n0              40  United-States  <=50K  \n1              50  United-States  <=50K  \n2              40  United-States   >50K  \n3              40  United-States   >50K  \n4              30  United-States  <=50K  ",
            "text/html": "<div>\n<style scoped>\n    .dataframe tbody tr th:only-of-type {\n        vertical-align: middle;\n    }\n\n    .dataframe tbody tr th {\n        vertical-align: top;\n    }\n\n    .dataframe thead th {\n        text-align: right;\n    }\n</style>\n<table border=\"1\" class=\"dataframe\">\n  <thead>\n    <tr style=\"text-align: right;\">\n      <th></th>\n      <th>age</th>\n      <th>workclass</th>\n      <th>fnlwgt</th>\n      <th>education</th>\n      <th>educational-num</th>\n      <th>marital-status</th>\n      <th>occupation</th>\n      <th>relationship</th>\n      <th>race</th>\n      <th>gender</th>\n      <th>capital-gain</th>\n      <th>capital-loss</th>\n      <th>hours-per-week</th>\n      <th>native-country</th>\n      <th>income</th>\n    </tr>\n  </thead>\n  <tbody>\n    <tr>\n      <th>0</th>\n      <td>25</td>\n      <td>Private</td>\n      <td>226802</td>\n      <td>11th</td>\n      <td>7</td>\n      <td>Never-married</td>\n      <td>Machine-op-inspct</td>\n      <td>Own-child</td>\n      <td>Black</td>\n      <td>Male</td>\n      <td>0</td>\n      <td>0</td>\n      <td>40</td>\n      <td>United-States</td>\n      <td>&lt;=50K</td>\n    </tr>\n    <tr>\n      <th>1</th>\n      <td>38</td>\n      <td>Private</td>\n      <td>89814</td>\n      <td>HS-grad</td>\n      <td>9</td>\n      <td>Married-civ-spouse</td>\n      <td>Farming-fishing</td>\n      <td>Husband</td>\n      <td>White</td>\n      <td>Male</td>\n      <td>0</td>\n      <td>0</td>\n      <td>50</td>\n      <td>United-States</td>\n      <td>&lt;=50K</td>\n    </tr>\n    <tr>\n      <th>2</th>\n      <td>28</td>\n      <td>Local-gov</td>\n      <td>336951</td>\n      <td>Assoc-acdm</td>\n      <td>12</td>\n      <td>Married-civ-spouse</td>\n      <td>Protective-serv</td>\n      <td>Husband</td>\n      <td>White</td>\n      <td>Male</td>\n      <td>0</td>\n      <td>0</td>\n      <td>40</td>\n      <td>United-States</td>\n      <td>&gt;50K</td>\n    </tr>\n    <tr>\n      <th>3</th>\n      <td>44</td>\n      <td>Private</td>\n      <td>160323</td>\n      <td>Some-college</td>\n      <td>10</td>\n      <td>Married-civ-spouse</td>\n      <td>Machine-op-inspct</td>\n      <td>Husband</td>\n      <td>Black</td>\n      <td>Male</td>\n      <td>7688</td>\n      <td>0</td>\n      <td>40</td>\n      <td>United-States</td>\n      <td>&gt;50K</td>\n    </tr>\n    <tr>\n      <th>4</th>\n      <td>18</td>\n      <td>?</td>\n      <td>103497</td>\n      <td>Some-college</td>\n      <td>10</td>\n      <td>Never-married</td>\n      <td>?</td>\n      <td>Own-child</td>\n      <td>White</td>\n      <td>Female</td>\n      <td>0</td>\n      <td>0</td>\n      <td>30</td>\n      <td>United-States</td>\n      <td>&lt;=50K</td>\n    </tr>\n  </tbody>\n</table>\n</div>"
          },
          "metadata": {}
        }
      ],
      "execution_count": null
    },
    {
      "id": "f32b7c4b-71c6-41e4-8957-b1bba48ff270",
      "cell_type": "code",
      "source": [
        "data.head(7)"
      ],
      "metadata": {
        "trusted": true,
        "id": "f32b7c4b-71c6-41e4-8957-b1bba48ff270",
        "outputId": "645c5771-67ae-4c24-ec9b-d9e954bc3765"
      },
      "outputs": [
        {
          "execution_count": 5,
          "output_type": "execute_result",
          "data": {
            "text/plain": "   age  workclass  fnlwgt     education  educational-num      marital-status  \\\n0   25    Private  226802          11th                7       Never-married   \n1   38    Private   89814       HS-grad                9  Married-civ-spouse   \n2   28  Local-gov  336951    Assoc-acdm               12  Married-civ-spouse   \n3   44    Private  160323  Some-college               10  Married-civ-spouse   \n4   18          ?  103497  Some-college               10       Never-married   \n5   34    Private  198693          10th                6       Never-married   \n6   29          ?  227026       HS-grad                9       Never-married   \n\n          occupation   relationship   race  gender  capital-gain  \\\n0  Machine-op-inspct      Own-child  Black    Male             0   \n1    Farming-fishing        Husband  White    Male             0   \n2    Protective-serv        Husband  White    Male             0   \n3  Machine-op-inspct        Husband  Black    Male          7688   \n4                  ?      Own-child  White  Female             0   \n5      Other-service  Not-in-family  White    Male             0   \n6                  ?      Unmarried  Black    Male             0   \n\n   capital-loss  hours-per-week native-country income  \n0             0              40  United-States  <=50K  \n1             0              50  United-States  <=50K  \n2             0              40  United-States   >50K  \n3             0              40  United-States   >50K  \n4             0              30  United-States  <=50K  \n5             0              30  United-States  <=50K  \n6             0              40  United-States  <=50K  ",
            "text/html": "<div>\n<style scoped>\n    .dataframe tbody tr th:only-of-type {\n        vertical-align: middle;\n    }\n\n    .dataframe tbody tr th {\n        vertical-align: top;\n    }\n\n    .dataframe thead th {\n        text-align: right;\n    }\n</style>\n<table border=\"1\" class=\"dataframe\">\n  <thead>\n    <tr style=\"text-align: right;\">\n      <th></th>\n      <th>age</th>\n      <th>workclass</th>\n      <th>fnlwgt</th>\n      <th>education</th>\n      <th>educational-num</th>\n      <th>marital-status</th>\n      <th>occupation</th>\n      <th>relationship</th>\n      <th>race</th>\n      <th>gender</th>\n      <th>capital-gain</th>\n      <th>capital-loss</th>\n      <th>hours-per-week</th>\n      <th>native-country</th>\n      <th>income</th>\n    </tr>\n  </thead>\n  <tbody>\n    <tr>\n      <th>0</th>\n      <td>25</td>\n      <td>Private</td>\n      <td>226802</td>\n      <td>11th</td>\n      <td>7</td>\n      <td>Never-married</td>\n      <td>Machine-op-inspct</td>\n      <td>Own-child</td>\n      <td>Black</td>\n      <td>Male</td>\n      <td>0</td>\n      <td>0</td>\n      <td>40</td>\n      <td>United-States</td>\n      <td>&lt;=50K</td>\n    </tr>\n    <tr>\n      <th>1</th>\n      <td>38</td>\n      <td>Private</td>\n      <td>89814</td>\n      <td>HS-grad</td>\n      <td>9</td>\n      <td>Married-civ-spouse</td>\n      <td>Farming-fishing</td>\n      <td>Husband</td>\n      <td>White</td>\n      <td>Male</td>\n      <td>0</td>\n      <td>0</td>\n      <td>50</td>\n      <td>United-States</td>\n      <td>&lt;=50K</td>\n    </tr>\n    <tr>\n      <th>2</th>\n      <td>28</td>\n      <td>Local-gov</td>\n      <td>336951</td>\n      <td>Assoc-acdm</td>\n      <td>12</td>\n      <td>Married-civ-spouse</td>\n      <td>Protective-serv</td>\n      <td>Husband</td>\n      <td>White</td>\n      <td>Male</td>\n      <td>0</td>\n      <td>0</td>\n      <td>40</td>\n      <td>United-States</td>\n      <td>&gt;50K</td>\n    </tr>\n    <tr>\n      <th>3</th>\n      <td>44</td>\n      <td>Private</td>\n      <td>160323</td>\n      <td>Some-college</td>\n      <td>10</td>\n      <td>Married-civ-spouse</td>\n      <td>Machine-op-inspct</td>\n      <td>Husband</td>\n      <td>Black</td>\n      <td>Male</td>\n      <td>7688</td>\n      <td>0</td>\n      <td>40</td>\n      <td>United-States</td>\n      <td>&gt;50K</td>\n    </tr>\n    <tr>\n      <th>4</th>\n      <td>18</td>\n      <td>?</td>\n      <td>103497</td>\n      <td>Some-college</td>\n      <td>10</td>\n      <td>Never-married</td>\n      <td>?</td>\n      <td>Own-child</td>\n      <td>White</td>\n      <td>Female</td>\n      <td>0</td>\n      <td>0</td>\n      <td>30</td>\n      <td>United-States</td>\n      <td>&lt;=50K</td>\n    </tr>\n    <tr>\n      <th>5</th>\n      <td>34</td>\n      <td>Private</td>\n      <td>198693</td>\n      <td>10th</td>\n      <td>6</td>\n      <td>Never-married</td>\n      <td>Other-service</td>\n      <td>Not-in-family</td>\n      <td>White</td>\n      <td>Male</td>\n      <td>0</td>\n      <td>0</td>\n      <td>30</td>\n      <td>United-States</td>\n      <td>&lt;=50K</td>\n    </tr>\n    <tr>\n      <th>6</th>\n      <td>29</td>\n      <td>?</td>\n      <td>227026</td>\n      <td>HS-grad</td>\n      <td>9</td>\n      <td>Never-married</td>\n      <td>?</td>\n      <td>Unmarried</td>\n      <td>Black</td>\n      <td>Male</td>\n      <td>0</td>\n      <td>0</td>\n      <td>40</td>\n      <td>United-States</td>\n      <td>&lt;=50K</td>\n    </tr>\n  </tbody>\n</table>\n</div>"
          },
          "metadata": {}
        }
      ],
      "execution_count": null
    },
    {
      "id": "e5bf391d-6aad-4595-aedc-487ef304989f",
      "cell_type": "code",
      "source": [
        "data.tail()"
      ],
      "metadata": {
        "trusted": true,
        "id": "e5bf391d-6aad-4595-aedc-487ef304989f",
        "outputId": "14b07892-2812-489f-f152-a3ee0e87d66c"
      },
      "outputs": [
        {
          "execution_count": 6,
          "output_type": "execute_result",
          "data": {
            "text/plain": "       age     workclass  fnlwgt   education  educational-num  \\\n48837   27       Private  257302  Assoc-acdm               12   \n48838   40       Private  154374     HS-grad                9   \n48839   58       Private  151910     HS-grad                9   \n48840   22       Private  201490     HS-grad                9   \n48841   52  Self-emp-inc  287927     HS-grad                9   \n\n           marital-status         occupation relationship   race  gender  \\\n48837  Married-civ-spouse       Tech-support         Wife  White  Female   \n48838  Married-civ-spouse  Machine-op-inspct      Husband  White    Male   \n48839             Widowed       Adm-clerical    Unmarried  White  Female   \n48840       Never-married       Adm-clerical    Own-child  White    Male   \n48841  Married-civ-spouse    Exec-managerial         Wife  White  Female   \n\n       capital-gain  capital-loss  hours-per-week native-country income  \n48837             0             0              38  United-States  <=50K  \n48838             0             0              40  United-States   >50K  \n48839             0             0              40  United-States  <=50K  \n48840             0             0              20  United-States  <=50K  \n48841         15024             0              40  United-States   >50K  ",
            "text/html": "<div>\n<style scoped>\n    .dataframe tbody tr th:only-of-type {\n        vertical-align: middle;\n    }\n\n    .dataframe tbody tr th {\n        vertical-align: top;\n    }\n\n    .dataframe thead th {\n        text-align: right;\n    }\n</style>\n<table border=\"1\" class=\"dataframe\">\n  <thead>\n    <tr style=\"text-align: right;\">\n      <th></th>\n      <th>age</th>\n      <th>workclass</th>\n      <th>fnlwgt</th>\n      <th>education</th>\n      <th>educational-num</th>\n      <th>marital-status</th>\n      <th>occupation</th>\n      <th>relationship</th>\n      <th>race</th>\n      <th>gender</th>\n      <th>capital-gain</th>\n      <th>capital-loss</th>\n      <th>hours-per-week</th>\n      <th>native-country</th>\n      <th>income</th>\n    </tr>\n  </thead>\n  <tbody>\n    <tr>\n      <th>48837</th>\n      <td>27</td>\n      <td>Private</td>\n      <td>257302</td>\n      <td>Assoc-acdm</td>\n      <td>12</td>\n      <td>Married-civ-spouse</td>\n      <td>Tech-support</td>\n      <td>Wife</td>\n      <td>White</td>\n      <td>Female</td>\n      <td>0</td>\n      <td>0</td>\n      <td>38</td>\n      <td>United-States</td>\n      <td>&lt;=50K</td>\n    </tr>\n    <tr>\n      <th>48838</th>\n      <td>40</td>\n      <td>Private</td>\n      <td>154374</td>\n      <td>HS-grad</td>\n      <td>9</td>\n      <td>Married-civ-spouse</td>\n      <td>Machine-op-inspct</td>\n      <td>Husband</td>\n      <td>White</td>\n      <td>Male</td>\n      <td>0</td>\n      <td>0</td>\n      <td>40</td>\n      <td>United-States</td>\n      <td>&gt;50K</td>\n    </tr>\n    <tr>\n      <th>48839</th>\n      <td>58</td>\n      <td>Private</td>\n      <td>151910</td>\n      <td>HS-grad</td>\n      <td>9</td>\n      <td>Widowed</td>\n      <td>Adm-clerical</td>\n      <td>Unmarried</td>\n      <td>White</td>\n      <td>Female</td>\n      <td>0</td>\n      <td>0</td>\n      <td>40</td>\n      <td>United-States</td>\n      <td>&lt;=50K</td>\n    </tr>\n    <tr>\n      <th>48840</th>\n      <td>22</td>\n      <td>Private</td>\n      <td>201490</td>\n      <td>HS-grad</td>\n      <td>9</td>\n      <td>Never-married</td>\n      <td>Adm-clerical</td>\n      <td>Own-child</td>\n      <td>White</td>\n      <td>Male</td>\n      <td>0</td>\n      <td>0</td>\n      <td>20</td>\n      <td>United-States</td>\n      <td>&lt;=50K</td>\n    </tr>\n    <tr>\n      <th>48841</th>\n      <td>52</td>\n      <td>Self-emp-inc</td>\n      <td>287927</td>\n      <td>HS-grad</td>\n      <td>9</td>\n      <td>Married-civ-spouse</td>\n      <td>Exec-managerial</td>\n      <td>Wife</td>\n      <td>White</td>\n      <td>Female</td>\n      <td>15024</td>\n      <td>0</td>\n      <td>40</td>\n      <td>United-States</td>\n      <td>&gt;50K</td>\n    </tr>\n  </tbody>\n</table>\n</div>"
          },
          "metadata": {}
        }
      ],
      "execution_count": null
    },
    {
      "id": "8ed463a0-f313-4bc0-9b96-96366c10d52c",
      "cell_type": "code",
      "source": [
        "data.tail(7)"
      ],
      "metadata": {
        "trusted": true,
        "id": "8ed463a0-f313-4bc0-9b96-96366c10d52c",
        "outputId": "0907e676-4f9b-44e5-884b-0cd79574c0f9"
      },
      "outputs": [
        {
          "execution_count": 7,
          "output_type": "execute_result",
          "data": {
            "text/plain": "       age     workclass  fnlwgt     education  educational-num  \\\n48835   53       Private  321865       Masters               14   \n48836   22       Private  310152  Some-college               10   \n48837   27       Private  257302    Assoc-acdm               12   \n48838   40       Private  154374       HS-grad                9   \n48839   58       Private  151910       HS-grad                9   \n48840   22       Private  201490       HS-grad                9   \n48841   52  Self-emp-inc  287927       HS-grad                9   \n\n           marital-status         occupation   relationship   race  gender  \\\n48835  Married-civ-spouse    Exec-managerial        Husband  White    Male   \n48836       Never-married    Protective-serv  Not-in-family  White    Male   \n48837  Married-civ-spouse       Tech-support           Wife  White  Female   \n48838  Married-civ-spouse  Machine-op-inspct        Husband  White    Male   \n48839             Widowed       Adm-clerical      Unmarried  White  Female   \n48840       Never-married       Adm-clerical      Own-child  White    Male   \n48841  Married-civ-spouse    Exec-managerial           Wife  White  Female   \n\n       capital-gain  capital-loss  hours-per-week native-country income  \n48835             0             0              40  United-States   >50K  \n48836             0             0              40  United-States  <=50K  \n48837             0             0              38  United-States  <=50K  \n48838             0             0              40  United-States   >50K  \n48839             0             0              40  United-States  <=50K  \n48840             0             0              20  United-States  <=50K  \n48841         15024             0              40  United-States   >50K  ",
            "text/html": "<div>\n<style scoped>\n    .dataframe tbody tr th:only-of-type {\n        vertical-align: middle;\n    }\n\n    .dataframe tbody tr th {\n        vertical-align: top;\n    }\n\n    .dataframe thead th {\n        text-align: right;\n    }\n</style>\n<table border=\"1\" class=\"dataframe\">\n  <thead>\n    <tr style=\"text-align: right;\">\n      <th></th>\n      <th>age</th>\n      <th>workclass</th>\n      <th>fnlwgt</th>\n      <th>education</th>\n      <th>educational-num</th>\n      <th>marital-status</th>\n      <th>occupation</th>\n      <th>relationship</th>\n      <th>race</th>\n      <th>gender</th>\n      <th>capital-gain</th>\n      <th>capital-loss</th>\n      <th>hours-per-week</th>\n      <th>native-country</th>\n      <th>income</th>\n    </tr>\n  </thead>\n  <tbody>\n    <tr>\n      <th>48835</th>\n      <td>53</td>\n      <td>Private</td>\n      <td>321865</td>\n      <td>Masters</td>\n      <td>14</td>\n      <td>Married-civ-spouse</td>\n      <td>Exec-managerial</td>\n      <td>Husband</td>\n      <td>White</td>\n      <td>Male</td>\n      <td>0</td>\n      <td>0</td>\n      <td>40</td>\n      <td>United-States</td>\n      <td>&gt;50K</td>\n    </tr>\n    <tr>\n      <th>48836</th>\n      <td>22</td>\n      <td>Private</td>\n      <td>310152</td>\n      <td>Some-college</td>\n      <td>10</td>\n      <td>Never-married</td>\n      <td>Protective-serv</td>\n      <td>Not-in-family</td>\n      <td>White</td>\n      <td>Male</td>\n      <td>0</td>\n      <td>0</td>\n      <td>40</td>\n      <td>United-States</td>\n      <td>&lt;=50K</td>\n    </tr>\n    <tr>\n      <th>48837</th>\n      <td>27</td>\n      <td>Private</td>\n      <td>257302</td>\n      <td>Assoc-acdm</td>\n      <td>12</td>\n      <td>Married-civ-spouse</td>\n      <td>Tech-support</td>\n      <td>Wife</td>\n      <td>White</td>\n      <td>Female</td>\n      <td>0</td>\n      <td>0</td>\n      <td>38</td>\n      <td>United-States</td>\n      <td>&lt;=50K</td>\n    </tr>\n    <tr>\n      <th>48838</th>\n      <td>40</td>\n      <td>Private</td>\n      <td>154374</td>\n      <td>HS-grad</td>\n      <td>9</td>\n      <td>Married-civ-spouse</td>\n      <td>Machine-op-inspct</td>\n      <td>Husband</td>\n      <td>White</td>\n      <td>Male</td>\n      <td>0</td>\n      <td>0</td>\n      <td>40</td>\n      <td>United-States</td>\n      <td>&gt;50K</td>\n    </tr>\n    <tr>\n      <th>48839</th>\n      <td>58</td>\n      <td>Private</td>\n      <td>151910</td>\n      <td>HS-grad</td>\n      <td>9</td>\n      <td>Widowed</td>\n      <td>Adm-clerical</td>\n      <td>Unmarried</td>\n      <td>White</td>\n      <td>Female</td>\n      <td>0</td>\n      <td>0</td>\n      <td>40</td>\n      <td>United-States</td>\n      <td>&lt;=50K</td>\n    </tr>\n    <tr>\n      <th>48840</th>\n      <td>22</td>\n      <td>Private</td>\n      <td>201490</td>\n      <td>HS-grad</td>\n      <td>9</td>\n      <td>Never-married</td>\n      <td>Adm-clerical</td>\n      <td>Own-child</td>\n      <td>White</td>\n      <td>Male</td>\n      <td>0</td>\n      <td>0</td>\n      <td>20</td>\n      <td>United-States</td>\n      <td>&lt;=50K</td>\n    </tr>\n    <tr>\n      <th>48841</th>\n      <td>52</td>\n      <td>Self-emp-inc</td>\n      <td>287927</td>\n      <td>HS-grad</td>\n      <td>9</td>\n      <td>Married-civ-spouse</td>\n      <td>Exec-managerial</td>\n      <td>Wife</td>\n      <td>White</td>\n      <td>Female</td>\n      <td>15024</td>\n      <td>0</td>\n      <td>40</td>\n      <td>United-States</td>\n      <td>&gt;50K</td>\n    </tr>\n  </tbody>\n</table>\n</div>"
          },
          "metadata": {}
        }
      ],
      "execution_count": null
    },
    {
      "id": "910e46eb-57c6-4387-8ef9-a591c2a25924",
      "cell_type": "code",
      "source": [
        "data.isna()"
      ],
      "metadata": {
        "trusted": true,
        "id": "910e46eb-57c6-4387-8ef9-a591c2a25924",
        "outputId": "842cd4fd-a470-495a-ed68-04702a9f7fab"
      },
      "outputs": [
        {
          "execution_count": 8,
          "output_type": "execute_result",
          "data": {
            "text/plain": "         age  workclass  fnlwgt  education  educational-num  marital-status  \\\n0      False      False   False      False            False           False   \n1      False      False   False      False            False           False   \n2      False      False   False      False            False           False   \n3      False      False   False      False            False           False   \n4      False      False   False      False            False           False   \n...      ...        ...     ...        ...              ...             ...   \n48837  False      False   False      False            False           False   \n48838  False      False   False      False            False           False   \n48839  False      False   False      False            False           False   \n48840  False      False   False      False            False           False   \n48841  False      False   False      False            False           False   \n\n       occupation  relationship   race  gender  capital-gain  capital-loss  \\\n0           False         False  False   False         False         False   \n1           False         False  False   False         False         False   \n2           False         False  False   False         False         False   \n3           False         False  False   False         False         False   \n4           False         False  False   False         False         False   \n...           ...           ...    ...     ...           ...           ...   \n48837       False         False  False   False         False         False   \n48838       False         False  False   False         False         False   \n48839       False         False  False   False         False         False   \n48840       False         False  False   False         False         False   \n48841       False         False  False   False         False         False   \n\n       hours-per-week  native-country  income  \n0               False           False   False  \n1               False           False   False  \n2               False           False   False  \n3               False           False   False  \n4               False           False   False  \n...               ...             ...     ...  \n48837           False           False   False  \n48838           False           False   False  \n48839           False           False   False  \n48840           False           False   False  \n48841           False           False   False  \n\n[48842 rows x 15 columns]",
            "text/html": "<div>\n<style scoped>\n    .dataframe tbody tr th:only-of-type {\n        vertical-align: middle;\n    }\n\n    .dataframe tbody tr th {\n        vertical-align: top;\n    }\n\n    .dataframe thead th {\n        text-align: right;\n    }\n</style>\n<table border=\"1\" class=\"dataframe\">\n  <thead>\n    <tr style=\"text-align: right;\">\n      <th></th>\n      <th>age</th>\n      <th>workclass</th>\n      <th>fnlwgt</th>\n      <th>education</th>\n      <th>educational-num</th>\n      <th>marital-status</th>\n      <th>occupation</th>\n      <th>relationship</th>\n      <th>race</th>\n      <th>gender</th>\n      <th>capital-gain</th>\n      <th>capital-loss</th>\n      <th>hours-per-week</th>\n      <th>native-country</th>\n      <th>income</th>\n    </tr>\n  </thead>\n  <tbody>\n    <tr>\n      <th>0</th>\n      <td>False</td>\n      <td>False</td>\n      <td>False</td>\n      <td>False</td>\n      <td>False</td>\n      <td>False</td>\n      <td>False</td>\n      <td>False</td>\n      <td>False</td>\n      <td>False</td>\n      <td>False</td>\n      <td>False</td>\n      <td>False</td>\n      <td>False</td>\n      <td>False</td>\n    </tr>\n    <tr>\n      <th>1</th>\n      <td>False</td>\n      <td>False</td>\n      <td>False</td>\n      <td>False</td>\n      <td>False</td>\n      <td>False</td>\n      <td>False</td>\n      <td>False</td>\n      <td>False</td>\n      <td>False</td>\n      <td>False</td>\n      <td>False</td>\n      <td>False</td>\n      <td>False</td>\n      <td>False</td>\n    </tr>\n    <tr>\n      <th>2</th>\n      <td>False</td>\n      <td>False</td>\n      <td>False</td>\n      <td>False</td>\n      <td>False</td>\n      <td>False</td>\n      <td>False</td>\n      <td>False</td>\n      <td>False</td>\n      <td>False</td>\n      <td>False</td>\n      <td>False</td>\n      <td>False</td>\n      <td>False</td>\n      <td>False</td>\n    </tr>\n    <tr>\n      <th>3</th>\n      <td>False</td>\n      <td>False</td>\n      <td>False</td>\n      <td>False</td>\n      <td>False</td>\n      <td>False</td>\n      <td>False</td>\n      <td>False</td>\n      <td>False</td>\n      <td>False</td>\n      <td>False</td>\n      <td>False</td>\n      <td>False</td>\n      <td>False</td>\n      <td>False</td>\n    </tr>\n    <tr>\n      <th>4</th>\n      <td>False</td>\n      <td>False</td>\n      <td>False</td>\n      <td>False</td>\n      <td>False</td>\n      <td>False</td>\n      <td>False</td>\n      <td>False</td>\n      <td>False</td>\n      <td>False</td>\n      <td>False</td>\n      <td>False</td>\n      <td>False</td>\n      <td>False</td>\n      <td>False</td>\n    </tr>\n    <tr>\n      <th>...</th>\n      <td>...</td>\n      <td>...</td>\n      <td>...</td>\n      <td>...</td>\n      <td>...</td>\n      <td>...</td>\n      <td>...</td>\n      <td>...</td>\n      <td>...</td>\n      <td>...</td>\n      <td>...</td>\n      <td>...</td>\n      <td>...</td>\n      <td>...</td>\n      <td>...</td>\n    </tr>\n    <tr>\n      <th>48837</th>\n      <td>False</td>\n      <td>False</td>\n      <td>False</td>\n      <td>False</td>\n      <td>False</td>\n      <td>False</td>\n      <td>False</td>\n      <td>False</td>\n      <td>False</td>\n      <td>False</td>\n      <td>False</td>\n      <td>False</td>\n      <td>False</td>\n      <td>False</td>\n      <td>False</td>\n    </tr>\n    <tr>\n      <th>48838</th>\n      <td>False</td>\n      <td>False</td>\n      <td>False</td>\n      <td>False</td>\n      <td>False</td>\n      <td>False</td>\n      <td>False</td>\n      <td>False</td>\n      <td>False</td>\n      <td>False</td>\n      <td>False</td>\n      <td>False</td>\n      <td>False</td>\n      <td>False</td>\n      <td>False</td>\n    </tr>\n    <tr>\n      <th>48839</th>\n      <td>False</td>\n      <td>False</td>\n      <td>False</td>\n      <td>False</td>\n      <td>False</td>\n      <td>False</td>\n      <td>False</td>\n      <td>False</td>\n      <td>False</td>\n      <td>False</td>\n      <td>False</td>\n      <td>False</td>\n      <td>False</td>\n      <td>False</td>\n      <td>False</td>\n    </tr>\n    <tr>\n      <th>48840</th>\n      <td>False</td>\n      <td>False</td>\n      <td>False</td>\n      <td>False</td>\n      <td>False</td>\n      <td>False</td>\n      <td>False</td>\n      <td>False</td>\n      <td>False</td>\n      <td>False</td>\n      <td>False</td>\n      <td>False</td>\n      <td>False</td>\n      <td>False</td>\n      <td>False</td>\n    </tr>\n    <tr>\n      <th>48841</th>\n      <td>False</td>\n      <td>False</td>\n      <td>False</td>\n      <td>False</td>\n      <td>False</td>\n      <td>False</td>\n      <td>False</td>\n      <td>False</td>\n      <td>False</td>\n      <td>False</td>\n      <td>False</td>\n      <td>False</td>\n      <td>False</td>\n      <td>False</td>\n      <td>False</td>\n    </tr>\n  </tbody>\n</table>\n<p>48842 rows × 15 columns</p>\n</div>"
          },
          "metadata": {}
        }
      ],
      "execution_count": null
    },
    {
      "id": "0558368d-e7b5-4108-9251-6d57c828f297",
      "cell_type": "code",
      "source": [
        "data.isna().sum()"
      ],
      "metadata": {
        "trusted": true,
        "id": "0558368d-e7b5-4108-9251-6d57c828f297",
        "outputId": "b5cbacb6-c32b-404f-e2d6-e162ee497ff6"
      },
      "outputs": [
        {
          "execution_count": 9,
          "output_type": "execute_result",
          "data": {
            "text/plain": "age                0\nworkclass          0\nfnlwgt             0\neducation          0\neducational-num    0\nmarital-status     0\noccupation         0\nrelationship       0\nrace               0\ngender             0\ncapital-gain       0\ncapital-loss       0\nhours-per-week     0\nnative-country     0\nincome             0\ndtype: int64"
          },
          "metadata": {}
        }
      ],
      "execution_count": null
    },
    {
      "id": "b80acb15-26fe-4b92-bd51-bff0d8e7144d",
      "cell_type": "code",
      "source": [
        "print(data.occupation.value_counts())"
      ],
      "metadata": {
        "trusted": true,
        "id": "b80acb15-26fe-4b92-bd51-bff0d8e7144d",
        "outputId": "2377d383-d55f-4b1a-c896-1ecf885d44e9"
      },
      "outputs": [
        {
          "name": "stdout",
          "output_type": "stream",
          "text": "occupation\nProf-specialty       6172\nCraft-repair         6112\nExec-managerial      6086\nAdm-clerical         5611\nSales                5504\nOther-service        4923\nMachine-op-inspct    3022\n?                    2809\nTransport-moving     2355\nHandlers-cleaners    2072\nFarming-fishing      1490\nTech-support         1446\nProtective-serv       983\nPriv-house-serv       242\nArmed-Forces           15\nName: count, dtype: int64\n"
        }
      ],
      "execution_count": null
    },
    {
      "id": "57e288ef-256d-4426-a228-09d518f7f531",
      "cell_type": "code",
      "source": [
        "print(data.gender.value_counts())"
      ],
      "metadata": {
        "trusted": true,
        "id": "57e288ef-256d-4426-a228-09d518f7f531",
        "outputId": "900e8a62-3ff3-43b6-fea3-76cfc100d21c"
      },
      "outputs": [
        {
          "name": "stdout",
          "output_type": "stream",
          "text": "gender\nMale      32650\nFemale    16192\nName: count, dtype: int64\n"
        }
      ],
      "execution_count": null
    },
    {
      "id": "e50cc745-5caa-4a47-b05e-5fb5abc3f9d1",
      "cell_type": "code",
      "source": [
        "print(data['marital-status'].value_counts())"
      ],
      "metadata": {
        "trusted": true,
        "id": "e50cc745-5caa-4a47-b05e-5fb5abc3f9d1",
        "outputId": "480b762f-ed5b-4225-b860-76f2ccf6f91a"
      },
      "outputs": [
        {
          "name": "stdout",
          "output_type": "stream",
          "text": "marital-status\nMarried-civ-spouse       22379\nNever-married            16117\nDivorced                  6633\nSeparated                 1530\nWidowed                   1518\nMarried-spouse-absent      628\nMarried-AF-spouse           37\nName: count, dtype: int64\n"
        }
      ],
      "execution_count": null
    },
    {
      "id": "9e5dda20-d726-4588-9816-c6858d5aeaab",
      "cell_type": "code",
      "source": [
        "print(data['education'].value_counts())"
      ],
      "metadata": {
        "trusted": true,
        "id": "9e5dda20-d726-4588-9816-c6858d5aeaab",
        "outputId": "8d241767-7e4e-4a7d-90f9-77e5c0405a22"
      },
      "outputs": [
        {
          "name": "stdout",
          "output_type": "stream",
          "text": "education\nHS-grad         15784\nSome-college    10878\nBachelors        8025\nMasters          2657\nAssoc-voc        2061\n11th             1812\nAssoc-acdm       1601\n10th             1389\n7th-8th           955\nProf-school       834\n9th               756\n12th              657\nDoctorate         594\n5th-6th           509\n1st-4th           247\nPreschool          83\nName: count, dtype: int64\n"
        }
      ],
      "execution_count": null
    },
    {
      "id": "045299cc-c653-425c-81c6-68365f3ffca1",
      "cell_type": "code",
      "source": [
        "print(data['workclass'].value_counts())"
      ],
      "metadata": {
        "trusted": true,
        "id": "045299cc-c653-425c-81c6-68365f3ffca1",
        "outputId": "6c59a963-2632-48e5-e1bc-24d489becffa"
      },
      "outputs": [
        {
          "name": "stdout",
          "output_type": "stream",
          "text": "workclass\nPrivate             33906\nSelf-emp-not-inc     3862\nLocal-gov            3136\n?                    2799\nState-gov            1981\nSelf-emp-inc         1695\nFederal-gov          1432\nWithout-pay            21\nNever-worked           10\nName: count, dtype: int64\n"
        }
      ],
      "execution_count": null
    },
    {
      "id": "5fd73a61-981e-49c9-9bd8-494c491ee61c",
      "cell_type": "code",
      "source": [
        "data.occupation.replace({'?':'Others'})"
      ],
      "metadata": {
        "trusted": true,
        "id": "5fd73a61-981e-49c9-9bd8-494c491ee61c",
        "outputId": "cec41016-84d6-4521-8874-166f83deed7a"
      },
      "outputs": [
        {
          "execution_count": 15,
          "output_type": "execute_result",
          "data": {
            "text/plain": "0        Machine-op-inspct\n1          Farming-fishing\n2          Protective-serv\n3        Machine-op-inspct\n4                   Others\n               ...        \n48837         Tech-support\n48838    Machine-op-inspct\n48839         Adm-clerical\n48840         Adm-clerical\n48841      Exec-managerial\nName: occupation, Length: 48842, dtype: object"
          },
          "metadata": {}
        }
      ],
      "execution_count": null
    },
    {
      "id": "84e20a63-830c-45a1-be34-17be2b63a558",
      "cell_type": "code",
      "source": [
        "print(data.occupation.value_counts())"
      ],
      "metadata": {
        "trusted": true,
        "id": "84e20a63-830c-45a1-be34-17be2b63a558",
        "outputId": "09607ece-8f91-4e74-c3d8-345131675d14"
      },
      "outputs": [
        {
          "name": "stdout",
          "output_type": "stream",
          "text": "occupation\nProf-specialty       6172\nCraft-repair         6112\nExec-managerial      6086\nAdm-clerical         5611\nSales                5504\nOther-service        4923\nMachine-op-inspct    3022\n?                    2809\nTransport-moving     2355\nHandlers-cleaners    2072\nFarming-fishing      1490\nTech-support         1446\nProtective-serv       983\nPriv-house-serv       242\nArmed-Forces           15\nName: count, dtype: int64\n"
        }
      ],
      "execution_count": null
    },
    {
      "id": "4f446667-91ad-4b7b-864d-39bb136f7b19",
      "cell_type": "code",
      "source": [
        "data.workclass.replace({'?':'NotListed'},inplace=True)"
      ],
      "metadata": {
        "trusted": true,
        "id": "4f446667-91ad-4b7b-864d-39bb136f7b19",
        "outputId": "a80ab00d-d923-49e5-afab-45d3c118bfb8"
      },
      "outputs": [
        {
          "name": "stderr",
          "output_type": "stream",
          "text": "<ipython-input-17-d6801d98aee8>:1: FutureWarning: A value is trying to be set on a copy of a DataFrame or Series through chained assignment using an inplace method.\nThe behavior will change in pandas 3.0. This inplace method will never work because the intermediate object on which we are setting values always behaves as a copy.\n\nFor example, when doing 'df[col].method(value, inplace=True)', try using 'df.method({col: value}, inplace=True)' or df[col] = df[col].method(value) instead, to perform the operation inplace on the original object.\n\n\n  data.workclass.replace({'?':'NotListed'},inplace=True)\n"
        }
      ],
      "execution_count": null
    },
    {
      "id": "f324ced9-6864-401e-a24d-3abb4243afca",
      "cell_type": "code",
      "source": [
        "print(data.occupation.value_counts())"
      ],
      "metadata": {
        "trusted": true,
        "id": "f324ced9-6864-401e-a24d-3abb4243afca",
        "outputId": "e2db0cc8-dc6c-4d00-e374-8139f398a932"
      },
      "outputs": [
        {
          "name": "stdout",
          "output_type": "stream",
          "text": "occupation\nProf-specialty       6172\nCraft-repair         6112\nExec-managerial      6086\nAdm-clerical         5611\nSales                5504\nOther-service        4923\nMachine-op-inspct    3022\n?                    2809\nTransport-moving     2355\nHandlers-cleaners    2072\nFarming-fishing      1490\nTech-support         1446\nProtective-serv       983\nPriv-house-serv       242\nArmed-Forces           15\nName: count, dtype: int64\n"
        }
      ],
      "execution_count": null
    },
    {
      "id": "be84b4e5-62cb-481f-b482-a9f1843e24db",
      "cell_type": "code",
      "source": [
        "print(data['workclass'].value_counts())"
      ],
      "metadata": {
        "trusted": true,
        "id": "be84b4e5-62cb-481f-b482-a9f1843e24db",
        "outputId": "3a6fc1f2-aade-4bd3-aadf-40ad657574e8"
      },
      "outputs": [
        {
          "name": "stdout",
          "output_type": "stream",
          "text": "workclass\nPrivate             33906\nSelf-emp-not-inc     3862\nLocal-gov            3136\nNotListed            2799\nState-gov            1981\nSelf-emp-inc         1695\nFederal-gov          1432\nWithout-pay            21\nNever-worked           10\nName: count, dtype: int64\n"
        }
      ],
      "execution_count": null
    },
    {
      "id": "eacd6777-3d2a-4085-8cb0-abbd29df38c6",
      "cell_type": "code",
      "source": [
        "data=data[data['workclass'] !='Without-pay']"
      ],
      "metadata": {
        "trusted": true,
        "id": "eacd6777-3d2a-4085-8cb0-abbd29df38c6"
      },
      "outputs": [],
      "execution_count": null
    },
    {
      "id": "701a606a-464b-4138-9aa2-efb3d2a1ed2f",
      "cell_type": "code",
      "source": [
        "data=data[data['workclass'] !='Never-worked']"
      ],
      "metadata": {
        "trusted": true,
        "id": "701a606a-464b-4138-9aa2-efb3d2a1ed2f"
      },
      "outputs": [],
      "execution_count": null
    },
    {
      "id": "8c45c3a2-0766-4326-9b37-cbef10f557cb",
      "cell_type": "code",
      "source": [
        "print(data['workclass'].value_counts())"
      ],
      "metadata": {
        "trusted": true,
        "id": "8c45c3a2-0766-4326-9b37-cbef10f557cb",
        "outputId": "b42ab629-94ef-4cf4-ea10-fb1238f39123"
      },
      "outputs": [
        {
          "name": "stdout",
          "output_type": "stream",
          "text": "workclass\nPrivate             33906\nSelf-emp-not-inc     3862\nLocal-gov            3136\nNotListed            2799\nState-gov            1981\nSelf-emp-inc         1695\nFederal-gov          1432\nName: count, dtype: int64\n"
        }
      ],
      "execution_count": null
    },
    {
      "id": "6be70c49-7344-4b60-a160-f1e568816233",
      "cell_type": "code",
      "source": [
        "data.shape"
      ],
      "metadata": {
        "trusted": true,
        "id": "6be70c49-7344-4b60-a160-f1e568816233",
        "outputId": "716a8a2c-810b-4c83-e686-b34679c5f6d8"
      },
      "outputs": [
        {
          "execution_count": 23,
          "output_type": "execute_result",
          "data": {
            "text/plain": "(48811, 15)"
          },
          "metadata": {}
        }
      ],
      "execution_count": null
    },
    {
      "id": "44d0ca12-ea56-441b-ad52-4f4cc6d976c2",
      "cell_type": "code",
      "source": [
        "data=data[data['education'] !='5th-6th']\n",
        "data=data[data['education'] !='1st-4th']\n",
        "data=data[data['education'] !='Preschool']"
      ],
      "metadata": {
        "trusted": true,
        "id": "44d0ca12-ea56-441b-ad52-4f4cc6d976c2"
      },
      "outputs": [],
      "execution_count": null
    },
    {
      "id": "11c1ee87-2504-4fb7-80af-6d673189a491",
      "cell_type": "code",
      "source": [
        "print(data['education'].value_counts())"
      ],
      "metadata": {
        "trusted": true,
        "id": "11c1ee87-2504-4fb7-80af-6d673189a491",
        "outputId": "55b360f5-f2c1-4af3-e725-2cd0333ad1d5"
      },
      "outputs": [
        {
          "name": "stdout",
          "output_type": "stream",
          "text": "education\nHS-grad         15768\nSome-college    10873\nBachelors        8025\nMasters          2657\nAssoc-voc        2061\n11th             1809\nAssoc-acdm       1599\n10th             1387\n7th-8th           952\nProf-school       834\n9th               756\n12th              657\nDoctorate         594\nName: count, dtype: int64\n"
        }
      ],
      "execution_count": null
    },
    {
      "id": "99c3376b-6277-4654-8478-e3dcbb83abfc",
      "cell_type": "code",
      "source": [
        "data.shape"
      ],
      "metadata": {
        "trusted": true,
        "id": "99c3376b-6277-4654-8478-e3dcbb83abfc",
        "outputId": "fc1e76aa-17ee-4851-a92e-ccd244a6c2d8"
      },
      "outputs": [
        {
          "execution_count": 26,
          "output_type": "execute_result",
          "data": {
            "text/plain": "(47972, 15)"
          },
          "metadata": {}
        }
      ],
      "execution_count": null
    },
    {
      "id": "57c48800-c000-458e-953f-3764f8145116",
      "cell_type": "code",
      "source": [
        "data.drop(columns=['education'],inplace=True)"
      ],
      "metadata": {
        "trusted": true,
        "id": "57c48800-c000-458e-953f-3764f8145116"
      },
      "outputs": [],
      "execution_count": null
    },
    {
      "id": "cf8af7dd-c3d6-42b5-aaa5-b69e9d179913",
      "cell_type": "code",
      "source": [
        "data\n"
      ],
      "metadata": {
        "trusted": true,
        "id": "cf8af7dd-c3d6-42b5-aaa5-b69e9d179913",
        "outputId": "2f7b7cb3-361d-44b1-f59b-6fe08026be4e"
      },
      "outputs": [
        {
          "execution_count": 28,
          "output_type": "execute_result",
          "data": {
            "text/plain": "       age     workclass  fnlwgt  educational-num      marital-status  \\\n0       25       Private  226802                7       Never-married   \n1       38       Private   89814                9  Married-civ-spouse   \n2       28     Local-gov  336951               12  Married-civ-spouse   \n3       44       Private  160323               10  Married-civ-spouse   \n4       18     NotListed  103497               10       Never-married   \n...    ...           ...     ...              ...                 ...   \n48837   27       Private  257302               12  Married-civ-spouse   \n48838   40       Private  154374                9  Married-civ-spouse   \n48839   58       Private  151910                9             Widowed   \n48840   22       Private  201490                9       Never-married   \n48841   52  Self-emp-inc  287927                9  Married-civ-spouse   \n\n              occupation relationship   race  gender  capital-gain  \\\n0      Machine-op-inspct    Own-child  Black    Male             0   \n1        Farming-fishing      Husband  White    Male             0   \n2        Protective-serv      Husband  White    Male             0   \n3      Machine-op-inspct      Husband  Black    Male          7688   \n4                      ?    Own-child  White  Female             0   \n...                  ...          ...    ...     ...           ...   \n48837       Tech-support         Wife  White  Female             0   \n48838  Machine-op-inspct      Husband  White    Male             0   \n48839       Adm-clerical    Unmarried  White  Female             0   \n48840       Adm-clerical    Own-child  White    Male             0   \n48841    Exec-managerial         Wife  White  Female         15024   \n\n       capital-loss  hours-per-week native-country income  \n0                 0              40  United-States  <=50K  \n1                 0              50  United-States  <=50K  \n2                 0              40  United-States   >50K  \n3                 0              40  United-States   >50K  \n4                 0              30  United-States  <=50K  \n...             ...             ...            ...    ...  \n48837             0              38  United-States  <=50K  \n48838             0              40  United-States   >50K  \n48839             0              40  United-States  <=50K  \n48840             0              20  United-States  <=50K  \n48841             0              40  United-States   >50K  \n\n[47972 rows x 14 columns]",
            "text/html": "<div>\n<style scoped>\n    .dataframe tbody tr th:only-of-type {\n        vertical-align: middle;\n    }\n\n    .dataframe tbody tr th {\n        vertical-align: top;\n    }\n\n    .dataframe thead th {\n        text-align: right;\n    }\n</style>\n<table border=\"1\" class=\"dataframe\">\n  <thead>\n    <tr style=\"text-align: right;\">\n      <th></th>\n      <th>age</th>\n      <th>workclass</th>\n      <th>fnlwgt</th>\n      <th>educational-num</th>\n      <th>marital-status</th>\n      <th>occupation</th>\n      <th>relationship</th>\n      <th>race</th>\n      <th>gender</th>\n      <th>capital-gain</th>\n      <th>capital-loss</th>\n      <th>hours-per-week</th>\n      <th>native-country</th>\n      <th>income</th>\n    </tr>\n  </thead>\n  <tbody>\n    <tr>\n      <th>0</th>\n      <td>25</td>\n      <td>Private</td>\n      <td>226802</td>\n      <td>7</td>\n      <td>Never-married</td>\n      <td>Machine-op-inspct</td>\n      <td>Own-child</td>\n      <td>Black</td>\n      <td>Male</td>\n      <td>0</td>\n      <td>0</td>\n      <td>40</td>\n      <td>United-States</td>\n      <td>&lt;=50K</td>\n    </tr>\n    <tr>\n      <th>1</th>\n      <td>38</td>\n      <td>Private</td>\n      <td>89814</td>\n      <td>9</td>\n      <td>Married-civ-spouse</td>\n      <td>Farming-fishing</td>\n      <td>Husband</td>\n      <td>White</td>\n      <td>Male</td>\n      <td>0</td>\n      <td>0</td>\n      <td>50</td>\n      <td>United-States</td>\n      <td>&lt;=50K</td>\n    </tr>\n    <tr>\n      <th>2</th>\n      <td>28</td>\n      <td>Local-gov</td>\n      <td>336951</td>\n      <td>12</td>\n      <td>Married-civ-spouse</td>\n      <td>Protective-serv</td>\n      <td>Husband</td>\n      <td>White</td>\n      <td>Male</td>\n      <td>0</td>\n      <td>0</td>\n      <td>40</td>\n      <td>United-States</td>\n      <td>&gt;50K</td>\n    </tr>\n    <tr>\n      <th>3</th>\n      <td>44</td>\n      <td>Private</td>\n      <td>160323</td>\n      <td>10</td>\n      <td>Married-civ-spouse</td>\n      <td>Machine-op-inspct</td>\n      <td>Husband</td>\n      <td>Black</td>\n      <td>Male</td>\n      <td>7688</td>\n      <td>0</td>\n      <td>40</td>\n      <td>United-States</td>\n      <td>&gt;50K</td>\n    </tr>\n    <tr>\n      <th>4</th>\n      <td>18</td>\n      <td>NotListed</td>\n      <td>103497</td>\n      <td>10</td>\n      <td>Never-married</td>\n      <td>?</td>\n      <td>Own-child</td>\n      <td>White</td>\n      <td>Female</td>\n      <td>0</td>\n      <td>0</td>\n      <td>30</td>\n      <td>United-States</td>\n      <td>&lt;=50K</td>\n    </tr>\n    <tr>\n      <th>...</th>\n      <td>...</td>\n      <td>...</td>\n      <td>...</td>\n      <td>...</td>\n      <td>...</td>\n      <td>...</td>\n      <td>...</td>\n      <td>...</td>\n      <td>...</td>\n      <td>...</td>\n      <td>...</td>\n      <td>...</td>\n      <td>...</td>\n      <td>...</td>\n    </tr>\n    <tr>\n      <th>48837</th>\n      <td>27</td>\n      <td>Private</td>\n      <td>257302</td>\n      <td>12</td>\n      <td>Married-civ-spouse</td>\n      <td>Tech-support</td>\n      <td>Wife</td>\n      <td>White</td>\n      <td>Female</td>\n      <td>0</td>\n      <td>0</td>\n      <td>38</td>\n      <td>United-States</td>\n      <td>&lt;=50K</td>\n    </tr>\n    <tr>\n      <th>48838</th>\n      <td>40</td>\n      <td>Private</td>\n      <td>154374</td>\n      <td>9</td>\n      <td>Married-civ-spouse</td>\n      <td>Machine-op-inspct</td>\n      <td>Husband</td>\n      <td>White</td>\n      <td>Male</td>\n      <td>0</td>\n      <td>0</td>\n      <td>40</td>\n      <td>United-States</td>\n      <td>&gt;50K</td>\n    </tr>\n    <tr>\n      <th>48839</th>\n      <td>58</td>\n      <td>Private</td>\n      <td>151910</td>\n      <td>9</td>\n      <td>Widowed</td>\n      <td>Adm-clerical</td>\n      <td>Unmarried</td>\n      <td>White</td>\n      <td>Female</td>\n      <td>0</td>\n      <td>0</td>\n      <td>40</td>\n      <td>United-States</td>\n      <td>&lt;=50K</td>\n    </tr>\n    <tr>\n      <th>48840</th>\n      <td>22</td>\n      <td>Private</td>\n      <td>201490</td>\n      <td>9</td>\n      <td>Never-married</td>\n      <td>Adm-clerical</td>\n      <td>Own-child</td>\n      <td>White</td>\n      <td>Male</td>\n      <td>0</td>\n      <td>0</td>\n      <td>20</td>\n      <td>United-States</td>\n      <td>&lt;=50K</td>\n    </tr>\n    <tr>\n      <th>48841</th>\n      <td>52</td>\n      <td>Self-emp-inc</td>\n      <td>287927</td>\n      <td>9</td>\n      <td>Married-civ-spouse</td>\n      <td>Exec-managerial</td>\n      <td>Wife</td>\n      <td>White</td>\n      <td>Female</td>\n      <td>15024</td>\n      <td>0</td>\n      <td>40</td>\n      <td>United-States</td>\n      <td>&gt;50K</td>\n    </tr>\n  </tbody>\n</table>\n<p>47972 rows × 14 columns</p>\n</div>"
          },
          "metadata": {}
        }
      ],
      "execution_count": null
    },
    {
      "id": "0c67d6da-e9d4-4411-86c5-8cb3352e8abd",
      "cell_type": "code",
      "source": [
        "x"
      ],
      "metadata": {
        "trusted": true,
        "id": "0c67d6da-e9d4-4411-86c5-8cb3352e8abd",
        "outputId": "0be8bf1e-dc63-454c-8580-1271c9257405"
      },
      "outputs": [
        {
          "ename": "<class 'NameError'>",
          "evalue": "name 'x' is not defined",
          "traceback": [
            "\u001b[0;31m---------------------------------------------------------------------------\u001b[0m",
            "\u001b[0;31mNameError\u001b[0m                                 Traceback (most recent call last)",
            "Cell \u001b[0;32mIn[29], line 1\u001b[0m\n\u001b[0;32m----> 1\u001b[0m \u001b[43mx\u001b[49m\n",
            "\u001b[0;31mNameError\u001b[0m: name 'x' is not defined"
          ],
          "output_type": "error"
        }
      ],
      "execution_count": null
    },
    {
      "id": "8b7aacaa-1753-4b46-b020-b78433d6aa8b",
      "cell_type": "code",
      "source": [
        "import matplotlib.pyplot as plt\n",
        "plt.boxplot(data['age'])\n",
        "plt.show()"
      ],
      "metadata": {
        "trusted": true,
        "id": "8b7aacaa-1753-4b46-b020-b78433d6aa8b",
        "outputId": "32851d6a-24d1-411f-a95b-229e7b5ce18b"
      },
      "outputs": [
        {
          "name": "stderr",
          "output_type": "stream",
          "text": "Matplotlib is building the font cache; this may take a moment.\n"
        },
        {
          "output_type": "display_data",
          "data": {
            "text/plain": "<Figure size 640x480 with 1 Axes>",
            "image/png": "[encoded data removed]"
          },
          "metadata": {}
        }
      ],
      "execution_count": null
    },
    {
      "id": "fe7b6641-f134-42ab-8963-a93680749c2b",
      "cell_type": "code",
      "source": [
        "data=data[(data['age']<=75)& (data['age']>=17)]"
      ],
      "metadata": {
        "trusted": true,
        "id": "fe7b6641-f134-42ab-8963-a93680749c2b"
      },
      "outputs": [],
      "execution_count": null
    },
    {
      "id": "11d17bbc-a038-47ae-847d-2a322eaa03ff",
      "cell_type": "code",
      "source": [
        "plt.boxplot(data['age'])\n",
        "plt.show()"
      ],
      "metadata": {
        "trusted": true,
        "id": "11d17bbc-a038-47ae-847d-2a322eaa03ff",
        "outputId": "095585a8-3f59-40e5-d855-381888cbc836"
      },
      "outputs": [
        {
          "output_type": "display_data",
          "data": {
            "text/plain": "<Figure size 640x480 with 1 Axes>",
            "image/png": "[encoded data removed]"
          },
          "metadata": {}
        }
      ],
      "execution_count": null
    },
    {
      "id": "75b4baf7-c8e5-489d-9487-83985cb969c0",
      "cell_type": "code",
      "source": [
        "from sklearn.preprocessing import LabelEncoder\n",
        "encoder=LabelEncoder()\n",
        "data['workclass']=encoder.fit_transform(data['workclass'])\n",
        "data['marital-status']=encoder.fit_transform(data['marital-status'])\n",
        "data['occupation']=encoder.fit_transform(data['occupation'])\n",
        "data['relationship']=encoder.fit_transform(data['relationship'])\n",
        "data['race']=encoder.fit_transform(data['race'])\n",
        "data['gender']=encoder.fit_transform(data['gender'])\n",
        "data['native-country']=encoder.fit_transform(data['native-country'])\n",
        "data"
      ],
      "metadata": {
        "trusted": true,
        "id": "75b4baf7-c8e5-489d-9487-83985cb969c0",
        "outputId": "9e870523-404f-4799-c144-8fe098484f8b"
      },
      "outputs": [
        {
          "name": "stderr",
          "output_type": "stream",
          "text": "<ipython-input-33-5453c5a1688c>:3: SettingWithCopyWarning: \nA value is trying to be set on a copy of a slice from a DataFrame.\nTry using .loc[row_indexer,col_indexer] = value instead\n\nSee the caveats in the documentation: https://pandas.pydata.org/pandas-docs/stable/user_guide/indexing.html#returning-a-view-versus-a-copy\n  data['workclass']=encoder.fit_transform(data['workclass'])\n<ipython-input-33-5453c5a1688c>:4: SettingWithCopyWarning: \nA value is trying to be set on a copy of a slice from a DataFrame.\nTry using .loc[row_indexer,col_indexer] = value instead\n\nSee the caveats in the documentation: https://pandas.pydata.org/pandas-docs/stable/user_guide/indexing.html#returning-a-view-versus-a-copy\n  data['marital-status']=encoder.fit_transform(data['marital-status'])\n<ipython-input-33-5453c5a1688c>:5: SettingWithCopyWarning: \nA value is trying to be set on a copy of a slice from a DataFrame.\nTry using .loc[row_indexer,col_indexer] = value instead\n\nSee the caveats in the documentation: https://pandas.pydata.org/pandas-docs/stable/user_guide/indexing.html#returning-a-view-versus-a-copy\n  data['occupation']=encoder.fit_transform(data['occupation'])\n<ipython-input-33-5453c5a1688c>:6: SettingWithCopyWarning: \nA value is trying to be set on a copy of a slice from a DataFrame.\nTry using .loc[row_indexer,col_indexer] = value instead\n\nSee the caveats in the documentation: https://pandas.pydata.org/pandas-docs/stable/user_guide/indexing.html#returning-a-view-versus-a-copy\n  data['relationship']=encoder.fit_transform(data['relationship'])\n<ipython-input-33-5453c5a1688c>:7: SettingWithCopyWarning: \nA value is trying to be set on a copy of a slice from a DataFrame.\nTry using .loc[row_indexer,col_indexer] = value instead\n\nSee the caveats in the documentation: https://pandas.pydata.org/pandas-docs/stable/user_guide/indexing.html#returning-a-view-versus-a-copy\n  data['race']=encoder.fit_transform(data['race'])\n<ipython-input-33-5453c5a1688c>:8: SettingWithCopyWarning: \nA value is trying to be set on a copy of a slice from a DataFrame.\nTry using .loc[row_indexer,col_indexer] = value instead\n\nSee the caveats in the documentation: https://pandas.pydata.org/pandas-docs/stable/user_guide/indexing.html#returning-a-view-versus-a-copy\n  data['gender']=encoder.fit_transform(data['gender'])\n<ipython-input-33-5453c5a1688c>:9: SettingWithCopyWarning: \nA value is trying to be set on a copy of a slice from a DataFrame.\nTry using .loc[row_indexer,col_indexer] = value instead\n\nSee the caveats in the documentation: https://pandas.pydata.org/pandas-docs/stable/user_guide/indexing.html#returning-a-view-versus-a-copy\n  data['native-country']=encoder.fit_transform(data['native-country'])\n"
        },
        {
          "execution_count": 33,
          "output_type": "execute_result",
          "data": {
            "text/plain": "       age  workclass  fnlwgt  educational-num  marital-status  occupation  \\\n0       25          3  226802                7               4           7   \n1       38          3   89814                9               2           5   \n2       28          1  336951               12               2          11   \n3       44          3  160323               10               2           7   \n4       18          2  103497               10               4           0   \n...    ...        ...     ...              ...             ...         ...   \n48837   27          3  257302               12               2          13   \n48838   40          3  154374                9               2           7   \n48839   58          3  151910                9               6           1   \n48840   22          3  201490                9               4           1   \n48841   52          4  287927                9               2           4   \n\n       relationship  race  gender  capital-gain  capital-loss  hours-per-week  \\\n0                 3     2       1             0             0              40   \n1                 0     4       1             0             0              50   \n2                 0     4       1             0             0              40   \n3                 0     2       1          7688             0              40   \n4                 3     4       0             0             0              30   \n...             ...   ...     ...           ...           ...             ...   \n48837             5     4       0             0             0              38   \n48838             0     4       1             0             0              40   \n48839             4     4       0             0             0              40   \n48840             3     4       1             0             0              20   \n48841             5     4       0         15024             0              40   \n\n       native-country income  \n0                  39  <=50K  \n1                  39  <=50K  \n2                  39   >50K  \n3                  39   >50K  \n4                  39  <=50K  \n...               ...    ...  \n48837              39  <=50K  \n48838              39   >50K  \n48839              39  <=50K  \n48840              39  <=50K  \n48841              39   >50K  \n\n[47619 rows x 14 columns]",
            "text/html": "<div>\n<style scoped>\n    .dataframe tbody tr th:only-of-type {\n        vertical-align: middle;\n    }\n\n    .dataframe tbody tr th {\n        vertical-align: top;\n    }\n\n    .dataframe thead th {\n        text-align: right;\n    }\n</style>\n<table border=\"1\" class=\"dataframe\">\n  <thead>\n    <tr style=\"text-align: right;\">\n      <th></th>\n      <th>age</th>\n      <th>workclass</th>\n      <th>fnlwgt</th>\n      <th>educational-num</th>\n      <th>marital-status</th>\n      <th>occupation</th>\n      <th>relationship</th>\n      <th>race</th>\n      <th>gender</th>\n      <th>capital-gain</th>\n      <th>capital-loss</th>\n      <th>hours-per-week</th>\n      <th>native-country</th>\n      <th>income</th>\n    </tr>\n  </thead>\n  <tbody>\n    <tr>\n      <th>0</th>\n      <td>25</td>\n      <td>3</td>\n      <td>226802</td>\n      <td>7</td>\n      <td>4</td>\n      <td>7</td>\n      <td>3</td>\n      <td>2</td>\n      <td>1</td>\n      <td>0</td>\n      <td>0</td>\n      <td>40</td>\n      <td>39</td>\n      <td>&lt;=50K</td>\n    </tr>\n    <tr>\n      <th>1</th>\n      <td>38</td>\n      <td>3</td>\n      <td>89814</td>\n      <td>9</td>\n      <td>2</td>\n      <td>5</td>\n      <td>0</td>\n      <td>4</td>\n      <td>1</td>\n      <td>0</td>\n      <td>0</td>\n      <td>50</td>\n      <td>39</td>\n      <td>&lt;=50K</td>\n    </tr>\n    <tr>\n      <th>2</th>\n      <td>28</td>\n      <td>1</td>\n      <td>336951</td>\n      <td>12</td>\n      <td>2</td>\n      <td>11</td>\n      <td>0</td>\n      <td>4</td>\n      <td>1</td>\n      <td>0</td>\n      <td>0</td>\n      <td>40</td>\n      <td>39</td>\n      <td>&gt;50K</td>\n    </tr>\n    <tr>\n      <th>3</th>\n      <td>44</td>\n      <td>3</td>\n      <td>160323</td>\n      <td>10</td>\n      <td>2</td>\n      <td>7</td>\n      <td>0</td>\n      <td>2</td>\n      <td>1</td>\n      <td>7688</td>\n      <td>0</td>\n      <td>40</td>\n      <td>39</td>\n      <td>&gt;50K</td>\n    </tr>\n    <tr>\n      <th>4</th>\n      <td>18</td>\n      <td>2</td>\n      <td>103497</td>\n      <td>10</td>\n      <td>4</td>\n      <td>0</td>\n      <td>3</td>\n      <td>4</td>\n      <td>0</td>\n      <td>0</td>\n      <td>0</td>\n      <td>30</td>\n      <td>39</td>\n      <td>&lt;=50K</td>\n    </tr>\n    <tr>\n      <th>...</th>\n      <td>...</td>\n      <td>...</td>\n      <td>...</td>\n      <td>...</td>\n      <td>...</td>\n      <td>...</td>\n      <td>...</td>\n      <td>...</td>\n      <td>...</td>\n      <td>...</td>\n      <td>...</td>\n      <td>...</td>\n      <td>...</td>\n      <td>...</td>\n    </tr>\n    <tr>\n      <th>48837</th>\n      <td>27</td>\n      <td>3</td>\n      <td>257302</td>\n      <td>12</td>\n      <td>2</td>\n      <td>13</td>\n      <td>5</td>\n      <td>4</td>\n      <td>0</td>\n      <td>0</td>\n      <td>0</td>\n      <td>38</td>\n      <td>39</td>\n      <td>&lt;=50K</td>\n    </tr>\n    <tr>\n      <th>48838</th>\n      <td>40</td>\n      <td>3</td>\n      <td>154374</td>\n      <td>9</td>\n      <td>2</td>\n      <td>7</td>\n      <td>0</td>\n      <td>4</td>\n      <td>1</td>\n      <td>0</td>\n      <td>0</td>\n      <td>40</td>\n      <td>39</td>\n      <td>&gt;50K</td>\n    </tr>\n    <tr>\n      <th>48839</th>\n      <td>58</td>\n      <td>3</td>\n      <td>151910</td>\n      <td>9</td>\n      <td>6</td>\n      <td>1</td>\n      <td>4</td>\n      <td>4</td>\n      <td>0</td>\n      <td>0</td>\n      <td>0</td>\n      <td>40</td>\n      <td>39</td>\n      <td>&lt;=50K</td>\n    </tr>\n    <tr>\n      <th>48840</th>\n      <td>22</td>\n      <td>3</td>\n      <td>201490</td>\n      <td>9</td>\n      <td>4</td>\n      <td>1</td>\n      <td>3</td>\n      <td>4</td>\n      <td>1</td>\n      <td>0</td>\n      <td>0</td>\n      <td>20</td>\n      <td>39</td>\n      <td>&lt;=50K</td>\n    </tr>\n    <tr>\n      <th>48841</th>\n      <td>52</td>\n      <td>4</td>\n      <td>287927</td>\n      <td>9</td>\n      <td>2</td>\n      <td>4</td>\n      <td>5</td>\n      <td>4</td>\n      <td>0</td>\n      <td>15024</td>\n      <td>0</td>\n      <td>40</td>\n      <td>39</td>\n      <td>&gt;50K</td>\n    </tr>\n  </tbody>\n</table>\n<p>47619 rows × 14 columns</p>\n</div>"
          },
          "metadata": {}
        }
      ],
      "execution_count": null
    },
    {
      "id": "0ef3a155-0eb5-4b39-8e8d-628e1c335f7e",
      "cell_type": "code",
      "source": [
        "data"
      ],
      "metadata": {
        "trusted": true,
        "id": "0ef3a155-0eb5-4b39-8e8d-628e1c335f7e",
        "outputId": "b9747340-7abc-4f2b-9026-d2fe3fd024fc"
      },
      "outputs": [
        {
          "execution_count": 34,
          "output_type": "execute_result",
          "data": {
            "text/plain": "       age  workclass  fnlwgt  educational-num  marital-status  occupation  \\\n0       25          3  226802                7               4           7   \n1       38          3   89814                9               2           5   \n2       28          1  336951               12               2          11   \n3       44          3  160323               10               2           7   \n4       18          2  103497               10               4           0   \n...    ...        ...     ...              ...             ...         ...   \n48837   27          3  257302               12               2          13   \n48838   40          3  154374                9               2           7   \n48839   58          3  151910                9               6           1   \n48840   22          3  201490                9               4           1   \n48841   52          4  287927                9               2           4   \n\n       relationship  race  gender  capital-gain  capital-loss  hours-per-week  \\\n0                 3     2       1             0             0              40   \n1                 0     4       1             0             0              50   \n2                 0     4       1             0             0              40   \n3                 0     2       1          7688             0              40   \n4                 3     4       0             0             0              30   \n...             ...   ...     ...           ...           ...             ...   \n48837             5     4       0             0             0              38   \n48838             0     4       1             0             0              40   \n48839             4     4       0             0             0              40   \n48840             3     4       1             0             0              20   \n48841             5     4       0         15024             0              40   \n\n       native-country income  \n0                  39  <=50K  \n1                  39  <=50K  \n2                  39   >50K  \n3                  39   >50K  \n4                  39  <=50K  \n...               ...    ...  \n48837              39  <=50K  \n48838              39   >50K  \n48839              39  <=50K  \n48840              39  <=50K  \n48841              39   >50K  \n\n[47619 rows x 14 columns]",
            "text/html": "<div>\n<style scoped>\n    .dataframe tbody tr th:only-of-type {\n        vertical-align: middle;\n    }\n\n    .dataframe tbody tr th {\n        vertical-align: top;\n    }\n\n    .dataframe thead th {\n        text-align: right;\n    }\n</style>\n<table border=\"1\" class=\"dataframe\">\n  <thead>\n    <tr style=\"text-align: right;\">\n      <th></th>\n      <th>age</th>\n      <th>workclass</th>\n      <th>fnlwgt</th>\n      <th>educational-num</th>\n      <th>marital-status</th>\n      <th>occupation</th>\n      <th>relationship</th>\n      <th>race</th>\n      <th>gender</th>\n      <th>capital-gain</th>\n      <th>capital-loss</th>\n      <th>hours-per-week</th>\n      <th>native-country</th>\n      <th>income</th>\n    </tr>\n  </thead>\n  <tbody>\n    <tr>\n      <th>0</th>\n      <td>25</td>\n      <td>3</td>\n      <td>226802</td>\n      <td>7</td>\n      <td>4</td>\n      <td>7</td>\n      <td>3</td>\n      <td>2</td>\n      <td>1</td>\n      <td>0</td>\n      <td>0</td>\n      <td>40</td>\n      <td>39</td>\n      <td>&lt;=50K</td>\n    </tr>\n    <tr>\n      <th>1</th>\n      <td>38</td>\n      <td>3</td>\n      <td>89814</td>\n      <td>9</td>\n      <td>2</td>\n      <td>5</td>\n      <td>0</td>\n      <td>4</td>\n      <td>1</td>\n      <td>0</td>\n      <td>0</td>\n      <td>50</td>\n      <td>39</td>\n      <td>&lt;=50K</td>\n    </tr>\n    <tr>\n      <th>2</th>\n      <td>28</td>\n      <td>1</td>\n      <td>336951</td>\n      <td>12</td>\n      <td>2</td>\n      <td>11</td>\n      <td>0</td>\n      <td>4</td>\n      <td>1</td>\n      <td>0</td>\n      <td>0</td>\n      <td>40</td>\n      <td>39</td>\n      <td>&gt;50K</td>\n    </tr>\n    <tr>\n      <th>3</th>\n      <td>44</td>\n      <td>3</td>\n      <td>160323</td>\n      <td>10</td>\n      <td>2</td>\n      <td>7</td>\n      <td>0</td>\n      <td>2</td>\n      <td>1</td>\n      <td>7688</td>\n      <td>0</td>\n      <td>40</td>\n      <td>39</td>\n      <td>&gt;50K</td>\n    </tr>\n    <tr>\n      <th>4</th>\n      <td>18</td>\n      <td>2</td>\n      <td>103497</td>\n      <td>10</td>\n      <td>4</td>\n      <td>0</td>\n      <td>3</td>\n      <td>4</td>\n      <td>0</td>\n      <td>0</td>\n      <td>0</td>\n      <td>30</td>\n      <td>39</td>\n      <td>&lt;=50K</td>\n    </tr>\n    <tr>\n      <th>...</th>\n      <td>...</td>\n      <td>...</td>\n      <td>...</td>\n      <td>...</td>\n      <td>...</td>\n      <td>...</td>\n      <td>...</td>\n      <td>...</td>\n      <td>...</td>\n      <td>...</td>\n      <td>...</td>\n      <td>...</td>\n      <td>...</td>\n      <td>...</td>\n    </tr>\n    <tr>\n      <th>48837</th>\n      <td>27</td>\n      <td>3</td>\n      <td>257302</td>\n      <td>12</td>\n      <td>2</td>\n      <td>13</td>\n      <td>5</td>\n      <td>4</td>\n      <td>0</td>\n      <td>0</td>\n      <td>0</td>\n      <td>38</td>\n      <td>39</td>\n      <td>&lt;=50K</td>\n    </tr>\n    <tr>\n      <th>48838</th>\n      <td>40</td>\n      <td>3</td>\n      <td>154374</td>\n      <td>9</td>\n      <td>2</td>\n      <td>7</td>\n      <td>0</td>\n      <td>4</td>\n      <td>1</td>\n      <td>0</td>\n      <td>0</td>\n      <td>40</td>\n      <td>39</td>\n      <td>&gt;50K</td>\n    </tr>\n    <tr>\n      <th>48839</th>\n      <td>58</td>\n      <td>3</td>\n      <td>151910</td>\n      <td>9</td>\n      <td>6</td>\n      <td>1</td>\n      <td>4</td>\n      <td>4</td>\n      <td>0</td>\n      <td>0</td>\n      <td>0</td>\n      <td>40</td>\n      <td>39</td>\n      <td>&lt;=50K</td>\n    </tr>\n    <tr>\n      <th>48840</th>\n      <td>22</td>\n      <td>3</td>\n      <td>201490</td>\n      <td>9</td>\n      <td>4</td>\n      <td>1</td>\n      <td>3</td>\n      <td>4</td>\n      <td>1</td>\n      <td>0</td>\n      <td>0</td>\n      <td>20</td>\n      <td>39</td>\n      <td>&lt;=50K</td>\n    </tr>\n    <tr>\n      <th>48841</th>\n      <td>52</td>\n      <td>4</td>\n      <td>287927</td>\n      <td>9</td>\n      <td>2</td>\n      <td>4</td>\n      <td>5</td>\n      <td>4</td>\n      <td>0</td>\n      <td>15024</td>\n      <td>0</td>\n      <td>40</td>\n      <td>39</td>\n      <td>&gt;50K</td>\n    </tr>\n  </tbody>\n</table>\n<p>47619 rows × 14 columns</p>\n</div>"
          },
          "metadata": {}
        }
      ],
      "execution_count": null
    },
    {
      "id": "6e9dceda-d36e-4623-b761-701a9ca7d5a5",
      "cell_type": "code",
      "source": [
        "import matplotlib.pyplot as plt\n",
        "plt.boxplot(data['age'])\n",
        "plt.show()"
      ],
      "metadata": {
        "trusted": true,
        "id": "6e9dceda-d36e-4623-b761-701a9ca7d5a5",
        "outputId": "ecf5fbfd-be6b-4769-b53b-4b7bda778978"
      },
      "outputs": [
        {
          "output_type": "display_data",
          "data": {
            "text/plain": "<Figure size 640x480 with 1 Axes>",
            "image/png": "[encoded data removed]"
          },
          "metadata": {}
        }
      ],
      "execution_count": null
    },
    {
      "id": "4a8d2ffd-6124-4459-ac37-bc42c6b4462b",
      "cell_type": "code",
      "source": [
        "x=data.drop(columns=['income'])\n",
        "y=data['income']"
      ],
      "metadata": {
        "trusted": true,
        "id": "4a8d2ffd-6124-4459-ac37-bc42c6b4462b"
      },
      "outputs": [],
      "execution_count": null
    },
    {
      "id": "067d5081-4424-4dbd-8d09-c306a6cfe12d",
      "cell_type": "code",
      "source": [
        "x"
      ],
      "metadata": {
        "trusted": true,
        "id": "067d5081-4424-4dbd-8d09-c306a6cfe12d",
        "outputId": "10ef0bad-090d-4f38-fe84-ffb3e3d17b16"
      },
      "outputs": [
        {
          "execution_count": 37,
          "output_type": "execute_result",
          "data": {
            "text/plain": "       age  workclass  fnlwgt  educational-num  marital-status  occupation  \\\n0       25          3  226802                7               4           7   \n1       38          3   89814                9               2           5   \n2       28          1  336951               12               2          11   \n3       44          3  160323               10               2           7   \n4       18          2  103497               10               4           0   \n...    ...        ...     ...              ...             ...         ...   \n48837   27          3  257302               12               2          13   \n48838   40          3  154374                9               2           7   \n48839   58          3  151910                9               6           1   \n48840   22          3  201490                9               4           1   \n48841   52          4  287927                9               2           4   \n\n       relationship  race  gender  capital-gain  capital-loss  hours-per-week  \\\n0                 3     2       1             0             0              40   \n1                 0     4       1             0             0              50   \n2                 0     4       1             0             0              40   \n3                 0     2       1          7688             0              40   \n4                 3     4       0             0             0              30   \n...             ...   ...     ...           ...           ...             ...   \n48837             5     4       0             0             0              38   \n48838             0     4       1             0             0              40   \n48839             4     4       0             0             0              40   \n48840             3     4       1             0             0              20   \n48841             5     4       0         15024             0              40   \n\n       native-country  \n0                  39  \n1                  39  \n2                  39  \n3                  39  \n4                  39  \n...               ...  \n48837              39  \n48838              39  \n48839              39  \n48840              39  \n48841              39  \n\n[47619 rows x 13 columns]",
            "text/html": "<div>\n<style scoped>\n    .dataframe tbody tr th:only-of-type {\n        vertical-align: middle;\n    }\n\n    .dataframe tbody tr th {\n        vertical-align: top;\n    }\n\n    .dataframe thead th {\n        text-align: right;\n    }\n</style>\n<table border=\"1\" class=\"dataframe\">\n  <thead>\n    <tr style=\"text-align: right;\">\n      <th></th>\n      <th>age</th>\n      <th>workclass</th>\n      <th>fnlwgt</th>\n      <th>educational-num</th>\n      <th>marital-status</th>\n      <th>occupation</th>\n      <th>relationship</th>\n      <th>race</th>\n      <th>gender</th>\n      <th>capital-gain</th>\n      <th>capital-loss</th>\n      <th>hours-per-week</th>\n      <th>native-country</th>\n    </tr>\n  </thead>\n  <tbody>\n    <tr>\n      <th>0</th>\n      <td>25</td>\n      <td>3</td>\n      <td>226802</td>\n      <td>7</td>\n      <td>4</td>\n      <td>7</td>\n      <td>3</td>\n      <td>2</td>\n      <td>1</td>\n      <td>0</td>\n      <td>0</td>\n      <td>40</td>\n      <td>39</td>\n    </tr>\n    <tr>\n      <th>1</th>\n      <td>38</td>\n      <td>3</td>\n      <td>89814</td>\n      <td>9</td>\n      <td>2</td>\n      <td>5</td>\n      <td>0</td>\n      <td>4</td>\n      <td>1</td>\n      <td>0</td>\n      <td>0</td>\n      <td>50</td>\n      <td>39</td>\n    </tr>\n    <tr>\n      <th>2</th>\n      <td>28</td>\n      <td>1</td>\n      <td>336951</td>\n      <td>12</td>\n      <td>2</td>\n      <td>11</td>\n      <td>0</td>\n      <td>4</td>\n      <td>1</td>\n      <td>0</td>\n      <td>0</td>\n      <td>40</td>\n      <td>39</td>\n    </tr>\n    <tr>\n      <th>3</th>\n      <td>44</td>\n      <td>3</td>\n      <td>160323</td>\n      <td>10</td>\n      <td>2</td>\n      <td>7</td>\n      <td>0</td>\n      <td>2</td>\n      <td>1</td>\n      <td>7688</td>\n      <td>0</td>\n      <td>40</td>\n      <td>39</td>\n    </tr>\n    <tr>\n      <th>4</th>\n      <td>18</td>\n      <td>2</td>\n      <td>103497</td>\n      <td>10</td>\n      <td>4</td>\n      <td>0</td>\n      <td>3</td>\n      <td>4</td>\n      <td>0</td>\n      <td>0</td>\n      <td>0</td>\n      <td>30</td>\n      <td>39</td>\n    </tr>\n    <tr>\n      <th>...</th>\n      <td>...</td>\n      <td>...</td>\n      <td>...</td>\n      <td>...</td>\n      <td>...</td>\n      <td>...</td>\n      <td>...</td>\n      <td>...</td>\n      <td>...</td>\n      <td>...</td>\n      <td>...</td>\n      <td>...</td>\n      <td>...</td>\n    </tr>\n    <tr>\n      <th>48837</th>\n      <td>27</td>\n      <td>3</td>\n      <td>257302</td>\n      <td>12</td>\n      <td>2</td>\n      <td>13</td>\n      <td>5</td>\n      <td>4</td>\n      <td>0</td>\n      <td>0</td>\n      <td>0</td>\n      <td>38</td>\n      <td>39</td>\n    </tr>\n    <tr>\n      <th>48838</th>\n      <td>40</td>\n      <td>3</td>\n      <td>154374</td>\n      <td>9</td>\n      <td>2</td>\n      <td>7</td>\n      <td>0</td>\n      <td>4</td>\n      <td>1</td>\n      <td>0</td>\n      <td>0</td>\n      <td>40</td>\n      <td>39</td>\n    </tr>\n    <tr>\n      <th>48839</th>\n      <td>58</td>\n      <td>3</td>\n      <td>151910</td>\n      <td>9</td>\n      <td>6</td>\n      <td>1</td>\n      <td>4</td>\n      <td>4</td>\n      <td>0</td>\n      <td>0</td>\n      <td>0</td>\n      <td>40</td>\n      <td>39</td>\n    </tr>\n    <tr>\n      <th>48840</th>\n      <td>22</td>\n      <td>3</td>\n      <td>201490</td>\n      <td>9</td>\n      <td>4</td>\n      <td>1</td>\n      <td>3</td>\n      <td>4</td>\n      <td>1</td>\n      <td>0</td>\n      <td>0</td>\n      <td>20</td>\n      <td>39</td>\n    </tr>\n    <tr>\n      <th>48841</th>\n      <td>52</td>\n      <td>4</td>\n      <td>287927</td>\n      <td>9</td>\n      <td>2</td>\n      <td>4</td>\n      <td>5</td>\n      <td>4</td>\n      <td>0</td>\n      <td>15024</td>\n      <td>0</td>\n      <td>40</td>\n      <td>39</td>\n    </tr>\n  </tbody>\n</table>\n<p>47619 rows × 13 columns</p>\n</div>"
          },
          "metadata": {}
        }
      ],
      "execution_count": null
    },
    {
      "id": "7257ad87-8d03-4e56-87a8-7f33580c15b7",
      "cell_type": "code",
      "source": [
        "y"
      ],
      "metadata": {
        "trusted": true,
        "id": "7257ad87-8d03-4e56-87a8-7f33580c15b7",
        "outputId": "6abe2280-b064-4675-f68b-36313f1eaa17"
      },
      "outputs": [
        {
          "execution_count": 38,
          "output_type": "execute_result",
          "data": {
            "text/plain": "0        <=50K\n1        <=50K\n2         >50K\n3         >50K\n4        <=50K\n         ...  \n48837    <=50K\n48838     >50K\n48839    <=50K\n48840    <=50K\n48841     >50K\nName: income, Length: 47619, dtype: object"
          },
          "metadata": {}
        }
      ],
      "execution_count": null
    },
    {
      "id": "e508b172-b15f-4543-b099-a298fc5cb005",
      "cell_type": "code",
      "source": [
        "from sklearn.preprocessing import MinMaxScaler\n",
        "Scaler=MinMaxScaler()\n",
        "x=Scaler.fit_transform(x)\n",
        "x"
      ],
      "metadata": {
        "trusted": true,
        "id": "e508b172-b15f-4543-b099-a298fc5cb005",
        "outputId": "44d636a3-97bf-46ef-fcf7-4947519b9b85"
      },
      "outputs": [
        {
          "execution_count": 39,
          "output_type": "execute_result",
          "data": {
            "text/plain": "array([[0.13793103, 0.5       , 0.14512876, ..., 0.        , 0.39795918,\n        0.95121951],\n       [0.36206897, 0.5       , 0.05245126, ..., 0.        , 0.5       ,\n        0.95121951],\n       [0.18965517, 0.16666667, 0.21964867, ..., 0.        , 0.39795918,\n        0.95121951],\n       ...,\n       [0.70689655, 0.5       , 0.09446153, ..., 0.        , 0.39795918,\n        0.95121951],\n       [0.0862069 , 0.5       , 0.12800425, ..., 0.        , 0.19387755,\n        0.95121951],\n       [0.60344828, 0.66666667, 0.18648211, ..., 0.        , 0.39795918,\n        0.95121951]])"
          },
          "metadata": {}
        }
      ],
      "execution_count": null
    },
    {
      "id": "d9c3cfcb-b254-4097-accb-832527baf78a",
      "cell_type": "code",
      "source": [
        "from sklearn.model_selection import train_test_split\n",
        "xtrain, xtest, ytrain, ytest= train_test_split(x,y, test_size=0.2, random_state=23, stratify=y)"
      ],
      "metadata": {
        "trusted": true,
        "id": "d9c3cfcb-b254-4097-accb-832527baf78a"
      },
      "outputs": [],
      "execution_count": null
    },
    {
      "id": "f4e4a8ae-d017-4a0c-9922-c80bffa77b04",
      "cell_type": "code",
      "source": [
        "xtrain"
      ],
      "metadata": {
        "trusted": true,
        "id": "f4e4a8ae-d017-4a0c-9922-c80bffa77b04",
        "outputId": "6934d64a-986e-45fb-cd3a-7ee7dd0289e9"
      },
      "outputs": [
        {
          "execution_count": 41,
          "output_type": "execute_result",
          "data": {
            "text/plain": "array([[0.44827586, 0.5       , 0.10248458, ..., 0.        , 0.39795918,\n        0.95121951],\n       [0.17241379, 0.16666667, 0.08567128, ..., 0.        , 0.34693878,\n        0.95121951],\n       [0.75862069, 0.83333333, 0.11752469, ..., 0.        , 0.39795918,\n        0.04878049],\n       ...,\n       [0.0862069 , 0.66666667, 0.24567574, ..., 0.        , 0.39795918,\n        0.85365854],\n       [0.53448276, 0.5       , 0.14505705, ..., 0.        , 0.39795918,\n        0.95121951],\n       [0.01724138, 0.5       , 0.0515217 , ..., 0.        , 0.35714286,\n        0.95121951]])"
          },
          "metadata": {}
        }
      ],
      "execution_count": null
    },
    {
      "id": "9ce7caa1-575f-4009-bb6c-87ddd3a26f50",
      "cell_type": "code",
      "source": [
        "# Check data types\n",
        "print(xtrain.dtypes)\n",
        "\n",
        "# Encode any 'object' type columns\n",
        "from sklearn.preprocessing import LabelEncoder\n",
        "\n",
        "encoder = LabelEncoder()\n",
        "for col in xtrain.select_dtypes(include='object').columns:\n",
        "    xtrain[col] = encoder.fit_transform(xtrain[col])\n",
        "    xtest[col] = encoder.transform(xtest[col])\n"
      ],
      "metadata": {
        "trusted": true,
        "id": "9ce7caa1-575f-4009-bb6c-87ddd3a26f50",
        "outputId": "03228593-5a8a-44d0-d830-3dac77383956"
      },
      "outputs": [
        {
          "ename": "<class 'AttributeError'>",
          "evalue": "'numpy.ndarray' object has no attribute 'dtypes'",
          "traceback": [
            "\u001b[0;31m---------------------------------------------------------------------------\u001b[0m",
            "\u001b[0;31mAttributeError\u001b[0m                            Traceback (most recent call last)",
            "Cell \u001b[0;32mIn[42], line 2\u001b[0m\n\u001b[1;32m      1\u001b[0m \u001b[38;5;66;03m# Check data types\u001b[39;00m\n\u001b[0;32m----> 2\u001b[0m \u001b[38;5;28mprint\u001b[39m(\u001b[43mxtrain\u001b[49m\u001b[38;5;241;43m.\u001b[39;49m\u001b[43mdtypes\u001b[49m)\n\u001b[1;32m      4\u001b[0m \u001b[38;5;66;03m# Encode any 'object' type columns\u001b[39;00m\n\u001b[1;32m      5\u001b[0m \u001b[38;5;28;01mfrom\u001b[39;00m \u001b[38;5;21;01msklearn\u001b[39;00m\u001b[38;5;21;01m.\u001b[39;00m\u001b[38;5;21;01mpreprocessing\u001b[39;00m \u001b[38;5;28;01mimport\u001b[39;00m LabelEncoder\n",
            "\u001b[0;31mAttributeError\u001b[0m: 'numpy.ndarray' object has no attribute 'dtypes'"
          ],
          "output_type": "error"
        }
      ],
      "execution_count": null
    },
    {
      "id": "93efcbcd-95c0-421e-ba22-ddfbba7f8a4a",
      "cell_type": "code",
      "source": [
        "import pandas as pd\n",
        "from sklearn.model_selection import train_test_split\n",
        "from sklearn.preprocessing import LabelEncoder, MinMaxScaler\n",
        "from sklearn.neighbors import KNeighborsClassifier\n",
        "\n",
        "# Load your dataset\n",
        "data = pd.read_csv(\"adult 3.csv\")\n",
        "\n",
        "# Encode categorical columns\n",
        "encoder = LabelEncoder()\n",
        "for col in data.select_dtypes(include='object').columns:\n",
        "    data[col] = encoder.fit_transform(data[col])\n",
        "\n",
        "# Print columns to confirm target column name\n",
        "print(data.columns)\n",
        "\n",
        "# Use correct target column name after confirmation\n",
        "x = data.drop(\"income\", axis=1)  # Replace \"income\" if it’s named differently\n",
        "y = data[\"income\"]\n",
        "\n",
        "# Scale features\n",
        "scaler = MinMaxScaler()\n",
        "x = scaler.fit_transform(x)\n",
        "\n",
        "# Split data\n",
        "xtrain, xtest, ytrain, ytest = train_test_split(x, y, test_size=0.2, random_state=42)\n",
        "\n",
        "# KNN model\n",
        "knn = KNeighborsClassifier()\n",
        "knn.fit(xtrain, ytrain)\n",
        "predict = knn.predict(xtest)\n",
        "\n",
        "print(predict)\n"
      ],
      "metadata": {
        "trusted": true,
        "id": "93efcbcd-95c0-421e-ba22-ddfbba7f8a4a",
        "outputId": "63307cca-666b-4da4-b3bb-93305823249c"
      },
      "outputs": [
        {
          "name": "stdout",
          "output_type": "stream",
          "text": "Index(['age', 'workclass', 'fnlwgt', 'education', 'educational-num',\n       'marital-status', 'occupation', 'relationship', 'race', 'gender',\n       'capital-gain', 'capital-loss', 'hours-per-week', 'native-country',\n       'income'],\n      dtype='object')\n[0 0 0 ... 1 0 1]\n"
        }
      ],
      "execution_count": null
    },
    {
      "id": "4525fd7e-6fa2-44b5-9f90-4daa3b4a3e37",
      "cell_type": "code",
      "source": [
        "# Predict using KNN\n",
        "predict = knn.predict(xtest)\n",
        "\n",
        "# Convert back to original string labels\n",
        "predict_labels = encoder.inverse_transform(predict)\n",
        "\n",
        "print(predict_labels)\n"
      ],
      "metadata": {
        "trusted": true,
        "id": "4525fd7e-6fa2-44b5-9f90-4daa3b4a3e37",
        "outputId": "e5d1e97d-7ca9-42da-c267-5866b6c3197e"
      },
      "outputs": [
        {
          "name": "stdout",
          "output_type": "stream",
          "text": "['<=50K' '<=50K' '<=50K' ... '>50K' '<=50K' '>50K']\n"
        }
      ],
      "execution_count": null
    },
    {
      "id": "87dd66cd-8b07-41ba-ba81-1787bec7fab2",
      "cell_type": "code",
      "source": [
        "from sklearn.metrics import accuracy_score\n",
        "accuracy_score(ytest,predict)"
      ],
      "metadata": {
        "trusted": true,
        "id": "87dd66cd-8b07-41ba-ba81-1787bec7fab2",
        "outputId": "33404d72-c43e-4223-9599-08deac910471"
      },
      "outputs": [
        {
          "execution_count": 45,
          "output_type": "execute_result",
          "data": {
            "text/plain": "0.8299723615518477"
          },
          "metadata": {}
        }
      ],
      "execution_count": null
    },
    {
      "id": "2515ed29-fe63-4387-a6db-7475033548f5",
      "cell_type": "markdown",
      "source": [
        "from sklearn.neural_network import MLPClassifier\n",
        "clf=MLPClassifier(solver='adam', hidden_layer_sizes=(5,2), random_state=2, max_iter=2000)\n",
        "clf.fit(xtrain,ytrain)\n",
        "predict=clf.predict(xtest)\n",
        "predict2"
      ],
      "metadata": {
        "id": "2515ed29-fe63-4387-a6db-7475033548f5"
      }
    },
    {
      "id": "18ccdfa4-130b-435b-96f0-8269b23e0092",
      "cell_type": "code",
      "source": [
        "from sklearn.neural_network import MLPClassifier\n",
        "clf=MLPClassifier(solver='adam', hidden_layer_sizes=(5,2), random_state=2, max_iter=2000)\n",
        "clf.fit(xtrain,ytrain)\n",
        "predict2=clf.predict(xtest)\n",
        "predict2"
      ],
      "metadata": {
        "trusted": true,
        "id": "18ccdfa4-130b-435b-96f0-8269b23e0092",
        "outputId": "32cbe9dc-6eae-4226-9010-8d917d11b340"
      },
      "outputs": [
        {
          "execution_count": 46,
          "output_type": "execute_result",
          "data": {
            "text/plain": "array([0, 0, 1, ..., 0, 0, 1])"
          },
          "metadata": {}
        }
      ],
      "execution_count": null
    },
    {
      "id": "2d2859c5-b6c4-4c49-84d1-c4d91de023e2",
      "cell_type": "code",
      "source": [
        "from sklearn.metrics import accuracy_score\n",
        "accuracy_score(ytest,predict2)"
      ],
      "metadata": {
        "trusted": true,
        "id": "2d2859c5-b6c4-4c49-84d1-c4d91de023e2",
        "outputId": "63822ac1-29b1-4d10-a2b0-9280bb3d5124"
      },
      "outputs": [
        {
          "execution_count": 47,
          "output_type": "execute_result",
          "data": {
            "text/plain": "0.8520831200737026"
          },
          "metadata": {}
        }
      ],
      "execution_count": null
    },
    {
      "id": "1ad1464e-7690-4757-9935-24bdcfec844d",
      "cell_type": "code",
      "source": [
        "#outlier detection\n",
        "import matplotlib.pyplot as plt   #visualization\n",
        "plt.boxplot(data['age'])\n",
        "plt.show()"
      ],
      "metadata": {
        "trusted": true,
        "id": "1ad1464e-7690-4757-9935-24bdcfec844d",
        "outputId": "407b3adf-155a-4fae-b038-3cca75c102d4"
      },
      "outputs": [
        {
          "output_type": "display_data",
          "data": {
            "text/plain": "<Figure size 640x480 with 1 Axes>",
            "image/png": "[encoded data removed]"
          },
          "metadata": {}
        }
      ],
      "execution_count": null
    },
    {
      "id": "3eb5f6e0-e324-4975-8283-755ec3df8ab2",
      "cell_type": "code",
      "source": [
        "data=data[(data['age']<=75)&(data['age']>=17)]"
      ],
      "metadata": {
        "trusted": true,
        "id": "3eb5f6e0-e324-4975-8283-755ec3df8ab2"
      },
      "outputs": [],
      "execution_count": null
    },
    {
      "id": "6f895b8b-4bf5-4117-a7b6-34abe328e81d",
      "cell_type": "code",
      "source": [
        "plt.boxplot(data['age'])\n",
        "plt.show()"
      ],
      "metadata": {
        "trusted": true,
        "id": "6f895b8b-4bf5-4117-a7b6-34abe328e81d",
        "outputId": "22db8855-0bd2-4ea1-fd47-57724d3b7c5f"
      },
      "outputs": [
        {
          "output_type": "display_data",
          "data": {
            "text/plain": "<Figure size 640x480 with 1 Axes>",
            "image/png": "[encoded data removed]"
          },
          "metadata": {}
        }
      ],
      "execution_count": null
    },
    {
      "id": "72df78a7-71a8-44f3-b4e5-cc89d252efe1",
      "cell_type": "code",
      "source": [
        "data.shape"
      ],
      "metadata": {
        "trusted": true,
        "id": "72df78a7-71a8-44f3-b4e5-cc89d252efe1",
        "outputId": "d520d7fc-25f0-41a9-8fb8-290d92a71831"
      },
      "outputs": [
        {
          "execution_count": 51,
          "output_type": "execute_result",
          "data": {
            "text/plain": "(48469, 15)"
          },
          "metadata": {}
        }
      ],
      "execution_count": null
    },
    {
      "id": "3fa96e91-3c33-4ef1-a994-f15ba507d8ba",
      "cell_type": "code",
      "source": [
        "plt.boxplot(data['capital-gain'])\n",
        "plt.show()"
      ],
      "metadata": {
        "trusted": true,
        "id": "3fa96e91-3c33-4ef1-a994-f15ba507d8ba",
        "outputId": "c2aae445-7dda-4521-a622-9dbe9712a00b"
      },
      "outputs": [
        {
          "output_type": "display_data",
          "data": {
            "text/plain": "<Figure size 640x480 with 1 Axes>",
            "image/png": "[encoded data removed]"
          },
          "metadata": {}
        }
      ],
      "execution_count": null
    },
    {
      "id": "76db7f73-4e30-45b7-bae8-e8fbdca9adda",
      "cell_type": "code",
      "source": [
        "plt.boxplot(data['capital-gain'])\n",
        "plt.show()"
      ],
      "metadata": {
        "trusted": true,
        "id": "76db7f73-4e30-45b7-bae8-e8fbdca9adda",
        "outputId": "942860fe-0545-4917-8321-e4d79597be2d"
      },
      "outputs": [
        {
          "output_type": "display_data",
          "data": {
            "text/plain": "<Figure size 640x480 with 1 Axes>",
            "image/png": "[encoded data removed]"
          },
          "metadata": {}
        }
      ],
      "execution_count": null
    },
    {
      "id": "321e0434-1ead-428e-84d3-7ef370ad73bb",
      "cell_type": "code",
      "source": [
        "plt.boxplot(data['educational-num'])\n",
        "plt.show()"
      ],
      "metadata": {
        "trusted": true,
        "id": "321e0434-1ead-428e-84d3-7ef370ad73bb",
        "outputId": "964a52c4-f3fb-4fd0-8899-d9501b0ef4d5"
      },
      "outputs": [
        {
          "output_type": "display_data",
          "data": {
            "text/plain": "<Figure size 640x480 with 1 Axes>",
            "image/png": "[encoded data removed]"
          },
          "metadata": {}
        }
      ],
      "execution_count": null
    },
    {
      "id": "cd469b9c-3d88-4f94-879b-7d7f9f56d0e3",
      "cell_type": "code",
      "source": [
        "data=data[(data['educational-num']<=16)&(data['educational-num']>=5)]"
      ],
      "metadata": {
        "trusted": true,
        "id": "cd469b9c-3d88-4f94-879b-7d7f9f56d0e3"
      },
      "outputs": [],
      "execution_count": null
    },
    {
      "id": "f562c421-6714-4728-b781-272fecae59f9",
      "cell_type": "code",
      "source": [
        "plt.boxplot(data['educational-num'])\n",
        "plt.show()"
      ],
      "metadata": {
        "trusted": true,
        "id": "f562c421-6714-4728-b781-272fecae59f9",
        "outputId": "04c0ad77-becd-4e34-c535-7d94b077ea30"
      },
      "outputs": [
        {
          "output_type": "display_data",
          "data": {
            "text/plain": "<Figure size 640x480 with 1 Axes>",
            "image/png": "[encoded data removed]"
          },
          "metadata": {}
        }
      ],
      "execution_count": null
    },
    {
      "id": "2d5ac6e3-09ce-4269-8701-c37f407199c0",
      "cell_type": "code",
      "source": [
        "plt.boxplot(data['hours-per-week'])\n",
        "plt.show()"
      ],
      "metadata": {
        "trusted": true,
        "id": "2d5ac6e3-09ce-4269-8701-c37f407199c0",
        "outputId": "cb54a36d-0981-4ac3-c333-ea0d75b850cb"
      },
      "outputs": [
        {
          "output_type": "display_data",
          "data": {
            "text/plain": "<Figure size 640x480 with 1 Axes>",
            "image/png": "[encoded data removed]"
          },
          "metadata": {}
        }
      ],
      "execution_count": null
    },
    {
      "id": "1037caad-1ce2-49cf-b506-b85f4e7c46b4",
      "cell_type": "code",
      "source": [
        "data.shape"
      ],
      "metadata": {
        "trusted": true,
        "id": "1037caad-1ce2-49cf-b506-b85f4e7c46b4",
        "outputId": "cb204c16-4b85-4307-8e42-b61f3d573a2a"
      },
      "outputs": [
        {
          "execution_count": 58,
          "output_type": "execute_result",
          "data": {
            "text/plain": "(46748, 15)"
          },
          "metadata": {}
        }
      ],
      "execution_count": null
    },
    {
      "id": "46009b84-68ad-4ca3-8ef2-09090884cb05",
      "cell_type": "code",
      "source": [
        "data=data.drop(columns=['education']) #redundant features removal"
      ],
      "metadata": {
        "trusted": true,
        "id": "46009b84-68ad-4ca3-8ef2-09090884cb05"
      },
      "outputs": [],
      "execution_count": null
    },
    {
      "id": "f96dce6a-d024-47cb-aec1-2c638f8c71b2",
      "cell_type": "code",
      "source": [
        "data"
      ],
      "metadata": {
        "trusted": true,
        "id": "f96dce6a-d024-47cb-aec1-2c638f8c71b2",
        "outputId": "04f8eef4-93f1-4d6d-f94e-6f5f41cadd78"
      },
      "outputs": [
        {
          "execution_count": 60,
          "output_type": "execute_result",
          "data": {
            "text/plain": "       age  workclass  fnlwgt  educational-num  marital-status  occupation  \\\n0       25          4  226802                7               4           7   \n1       38          4   89814                9               2           5   \n2       28          2  336951               12               2          11   \n3       44          4  160323               10               2           7   \n4       18          0  103497               10               4           0   \n...    ...        ...     ...              ...             ...         ...   \n48837   27          4  257302               12               2          13   \n48838   40          4  154374                9               2           7   \n48839   58          4  151910                9               6           1   \n48840   22          4  201490                9               4           1   \n48841   52          5  287927                9               2           4   \n\n       relationship  race  gender  capital-gain  capital-loss  hours-per-week  \\\n0                 3     2       1             0             0              40   \n1                 0     4       1             0             0              50   \n2                 0     4       1             0             0              40   \n3                 0     2       1          7688             0              40   \n4                 3     4       0             0             0              30   \n...             ...   ...     ...           ...           ...             ...   \n48837             5     4       0             0             0              38   \n48838             0     4       1             0             0              40   \n48839             4     4       0             0             0              40   \n48840             3     4       1             0             0              20   \n48841             5     4       0         15024             0              40   \n\n       native-country  income  \n0                  39       0  \n1                  39       0  \n2                  39       1  \n3                  39       1  \n4                  39       0  \n...               ...     ...  \n48837              39       0  \n48838              39       1  \n48839              39       0  \n48840              39       0  \n48841              39       1  \n\n[46748 rows x 14 columns]",
            "text/html": "<div>\n<style scoped>\n    .dataframe tbody tr th:only-of-type {\n        vertical-align: middle;\n    }\n\n    .dataframe tbody tr th {\n        vertical-align: top;\n    }\n\n    .dataframe thead th {\n        text-align: right;\n    }\n</style>\n<table border=\"1\" class=\"dataframe\">\n  <thead>\n    <tr style=\"text-align: right;\">\n      <th></th>\n      <th>age</th>\n      <th>workclass</th>\n      <th>fnlwgt</th>\n      <th>educational-num</th>\n      <th>marital-status</th>\n      <th>occupation</th>\n      <th>relationship</th>\n      <th>race</th>\n      <th>gender</th>\n      <th>capital-gain</th>\n      <th>capital-loss</th>\n      <th>hours-per-week</th>\n      <th>native-country</th>\n      <th>income</th>\n    </tr>\n  </thead>\n  <tbody>\n    <tr>\n      <th>0</th>\n      <td>25</td>\n      <td>4</td>\n      <td>226802</td>\n      <td>7</td>\n      <td>4</td>\n      <td>7</td>\n      <td>3</td>\n      <td>2</td>\n      <td>1</td>\n      <td>0</td>\n      <td>0</td>\n      <td>40</td>\n      <td>39</td>\n      <td>0</td>\n    </tr>\n    <tr>\n      <th>1</th>\n      <td>38</td>\n      <td>4</td>\n      <td>89814</td>\n      <td>9</td>\n      <td>2</td>\n      <td>5</td>\n      <td>0</td>\n      <td>4</td>\n      <td>1</td>\n      <td>0</td>\n      <td>0</td>\n      <td>50</td>\n      <td>39</td>\n      <td>0</td>\n    </tr>\n    <tr>\n      <th>2</th>\n      <td>28</td>\n      <td>2</td>\n      <td>336951</td>\n      <td>12</td>\n      <td>2</td>\n      <td>11</td>\n      <td>0</td>\n      <td>4</td>\n      <td>1</td>\n      <td>0</td>\n      <td>0</td>\n      <td>40</td>\n      <td>39</td>\n      <td>1</td>\n    </tr>\n    <tr>\n      <th>3</th>\n      <td>44</td>\n      <td>4</td>\n      <td>160323</td>\n      <td>10</td>\n      <td>2</td>\n      <td>7</td>\n      <td>0</td>\n      <td>2</td>\n      <td>1</td>\n      <td>7688</td>\n      <td>0</td>\n      <td>40</td>\n      <td>39</td>\n      <td>1</td>\n    </tr>\n    <tr>\n      <th>4</th>\n      <td>18</td>\n      <td>0</td>\n      <td>103497</td>\n      <td>10</td>\n      <td>4</td>\n      <td>0</td>\n      <td>3</td>\n      <td>4</td>\n      <td>0</td>\n      <td>0</td>\n      <td>0</td>\n      <td>30</td>\n      <td>39</td>\n      <td>0</td>\n    </tr>\n    <tr>\n      <th>...</th>\n      <td>...</td>\n      <td>...</td>\n      <td>...</td>\n      <td>...</td>\n      <td>...</td>\n      <td>...</td>\n      <td>...</td>\n      <td>...</td>\n      <td>...</td>\n      <td>...</td>\n      <td>...</td>\n      <td>...</td>\n      <td>...</td>\n      <td>...</td>\n    </tr>\n    <tr>\n      <th>48837</th>\n      <td>27</td>\n      <td>4</td>\n      <td>257302</td>\n      <td>12</td>\n      <td>2</td>\n      <td>13</td>\n      <td>5</td>\n      <td>4</td>\n      <td>0</td>\n      <td>0</td>\n      <td>0</td>\n      <td>38</td>\n      <td>39</td>\n      <td>0</td>\n    </tr>\n    <tr>\n      <th>48838</th>\n      <td>40</td>\n      <td>4</td>\n      <td>154374</td>\n      <td>9</td>\n      <td>2</td>\n      <td>7</td>\n      <td>0</td>\n      <td>4</td>\n      <td>1</td>\n      <td>0</td>\n      <td>0</td>\n      <td>40</td>\n      <td>39</td>\n      <td>1</td>\n    </tr>\n    <tr>\n      <th>48839</th>\n      <td>58</td>\n      <td>4</td>\n      <td>151910</td>\n      <td>9</td>\n      <td>6</td>\n      <td>1</td>\n      <td>4</td>\n      <td>4</td>\n      <td>0</td>\n      <td>0</td>\n      <td>0</td>\n      <td>40</td>\n      <td>39</td>\n      <td>0</td>\n    </tr>\n    <tr>\n      <th>48840</th>\n      <td>22</td>\n      <td>4</td>\n      <td>201490</td>\n      <td>9</td>\n      <td>4</td>\n      <td>1</td>\n      <td>3</td>\n      <td>4</td>\n      <td>1</td>\n      <td>0</td>\n      <td>0</td>\n      <td>20</td>\n      <td>39</td>\n      <td>0</td>\n    </tr>\n    <tr>\n      <th>48841</th>\n      <td>52</td>\n      <td>5</td>\n      <td>287927</td>\n      <td>9</td>\n      <td>2</td>\n      <td>4</td>\n      <td>5</td>\n      <td>4</td>\n      <td>0</td>\n      <td>15024</td>\n      <td>0</td>\n      <td>40</td>\n      <td>39</td>\n      <td>1</td>\n    </tr>\n  </tbody>\n</table>\n<p>46748 rows × 14 columns</p>\n</div>"
          },
          "metadata": {}
        }
      ],
      "execution_count": null
    },
    {
      "id": "0410189e-0a86-45e2-aeaf-3bfd65756a58",
      "cell_type": "code",
      "source": [
        "from sklearn.preprocessing import LabelEncoder   #import libarary\n",
        "encoder=LabelEncoder()                       #create object\n",
        "data['workclass']=encoder.fit_transform(data['workclass']) #7 categories   0,1, 2, 3, 4, 5, 6,\n",
        "data['marital-status']=encoder.fit_transform(data['marital-status'])   #3 categories 0, 1, 2\n",
        "data['occupation']=encoder.fit_transform(data['occupation'])\n",
        "data['relationship']=encoder.fit_transform(data['relationship'])      #5 categories  0, 1, 2, 3, 4\n",
        "data['race']=encoder.fit_transform(data['race'])\n",
        "data['gender']=encoder.fit_transform(data['gender'])    #2 catogories     0, 1\n",
        "data['native-country']=encoder.fit_transform(data['native-country'])"
      ],
      "metadata": {
        "trusted": true,
        "id": "0410189e-0a86-45e2-aeaf-3bfd65756a58"
      },
      "outputs": [],
      "execution_count": null
    },
    {
      "id": "f99d09c5-b3ff-44fe-9253-d3c0d3df0baa",
      "cell_type": "code",
      "source": [
        "data"
      ],
      "metadata": {
        "trusted": true,
        "id": "f99d09c5-b3ff-44fe-9253-d3c0d3df0baa",
        "outputId": "6b4330e9-0d05-4acc-967b-9440e8e5803e"
      },
      "outputs": [
        {
          "execution_count": 62,
          "output_type": "execute_result",
          "data": {
            "text/plain": "       age  workclass  fnlwgt  educational-num  marital-status  occupation  \\\n0       25          4  226802                7               4           7   \n1       38          4   89814                9               2           5   \n2       28          2  336951               12               2          11   \n3       44          4  160323               10               2           7   \n4       18          0  103497               10               4           0   \n...    ...        ...     ...              ...             ...         ...   \n48837   27          4  257302               12               2          13   \n48838   40          4  154374                9               2           7   \n48839   58          4  151910                9               6           1   \n48840   22          4  201490                9               4           1   \n48841   52          5  287927                9               2           4   \n\n       relationship  race  gender  capital-gain  capital-loss  hours-per-week  \\\n0                 3     2       1             0             0              40   \n1                 0     4       1             0             0              50   \n2                 0     4       1             0             0              40   \n3                 0     2       1          7688             0              40   \n4                 3     4       0             0             0              30   \n...             ...   ...     ...           ...           ...             ...   \n48837             5     4       0             0             0              38   \n48838             0     4       1             0             0              40   \n48839             4     4       0             0             0              40   \n48840             3     4       1             0             0              20   \n48841             5     4       0         15024             0              40   \n\n       native-country  income  \n0                  39       0  \n1                  39       0  \n2                  39       1  \n3                  39       1  \n4                  39       0  \n...               ...     ...  \n48837              39       0  \n48838              39       1  \n48839              39       0  \n48840              39       0  \n48841              39       1  \n\n[46748 rows x 14 columns]",
            "text/html": "<div>\n<style scoped>\n    .dataframe tbody tr th:only-of-type {\n        vertical-align: middle;\n    }\n\n    .dataframe tbody tr th {\n        vertical-align: top;\n    }\n\n    .dataframe thead th {\n        text-align: right;\n    }\n</style>\n<table border=\"1\" class=\"dataframe\">\n  <thead>\n    <tr style=\"text-align: right;\">\n      <th></th>\n      <th>age</th>\n      <th>workclass</th>\n      <th>fnlwgt</th>\n      <th>educational-num</th>\n      <th>marital-status</th>\n      <th>occupation</th>\n      <th>relationship</th>\n      <th>race</th>\n      <th>gender</th>\n      <th>capital-gain</th>\n      <th>capital-loss</th>\n      <th>hours-per-week</th>\n      <th>native-country</th>\n      <th>income</th>\n    </tr>\n  </thead>\n  <tbody>\n    <tr>\n      <th>0</th>\n      <td>25</td>\n      <td>4</td>\n      <td>226802</td>\n      <td>7</td>\n      <td>4</td>\n      <td>7</td>\n      <td>3</td>\n      <td>2</td>\n      <td>1</td>\n      <td>0</td>\n      <td>0</td>\n      <td>40</td>\n      <td>39</td>\n      <td>0</td>\n    </tr>\n    <tr>\n      <th>1</th>\n      <td>38</td>\n      <td>4</td>\n      <td>89814</td>\n      <td>9</td>\n      <td>2</td>\n      <td>5</td>\n      <td>0</td>\n      <td>4</td>\n      <td>1</td>\n      <td>0</td>\n      <td>0</td>\n      <td>50</td>\n      <td>39</td>\n      <td>0</td>\n    </tr>\n    <tr>\n      <th>2</th>\n      <td>28</td>\n      <td>2</td>\n      <td>336951</td>\n      <td>12</td>\n      <td>2</td>\n      <td>11</td>\n      <td>0</td>\n      <td>4</td>\n      <td>1</td>\n      <td>0</td>\n      <td>0</td>\n      <td>40</td>\n      <td>39</td>\n      <td>1</td>\n    </tr>\n    <tr>\n      <th>3</th>\n      <td>44</td>\n      <td>4</td>\n      <td>160323</td>\n      <td>10</td>\n      <td>2</td>\n      <td>7</td>\n      <td>0</td>\n      <td>2</td>\n      <td>1</td>\n      <td>7688</td>\n      <td>0</td>\n      <td>40</td>\n      <td>39</td>\n      <td>1</td>\n    </tr>\n    <tr>\n      <th>4</th>\n      <td>18</td>\n      <td>0</td>\n      <td>103497</td>\n      <td>10</td>\n      <td>4</td>\n      <td>0</td>\n      <td>3</td>\n      <td>4</td>\n      <td>0</td>\n      <td>0</td>\n      <td>0</td>\n      <td>30</td>\n      <td>39</td>\n      <td>0</td>\n    </tr>\n    <tr>\n      <th>...</th>\n      <td>...</td>\n      <td>...</td>\n      <td>...</td>\n      <td>...</td>\n      <td>...</td>\n      <td>...</td>\n      <td>...</td>\n      <td>...</td>\n      <td>...</td>\n      <td>...</td>\n      <td>...</td>\n      <td>...</td>\n      <td>...</td>\n      <td>...</td>\n    </tr>\n    <tr>\n      <th>48837</th>\n      <td>27</td>\n      <td>4</td>\n      <td>257302</td>\n      <td>12</td>\n      <td>2</td>\n      <td>13</td>\n      <td>5</td>\n      <td>4</td>\n      <td>0</td>\n      <td>0</td>\n      <td>0</td>\n      <td>38</td>\n      <td>39</td>\n      <td>0</td>\n    </tr>\n    <tr>\n      <th>48838</th>\n      <td>40</td>\n      <td>4</td>\n      <td>154374</td>\n      <td>9</td>\n      <td>2</td>\n      <td>7</td>\n      <td>0</td>\n      <td>4</td>\n      <td>1</td>\n      <td>0</td>\n      <td>0</td>\n      <td>40</td>\n      <td>39</td>\n      <td>1</td>\n    </tr>\n    <tr>\n      <th>48839</th>\n      <td>58</td>\n      <td>4</td>\n      <td>151910</td>\n      <td>9</td>\n      <td>6</td>\n      <td>1</td>\n      <td>4</td>\n      <td>4</td>\n      <td>0</td>\n      <td>0</td>\n      <td>0</td>\n      <td>40</td>\n      <td>39</td>\n      <td>0</td>\n    </tr>\n    <tr>\n      <th>48840</th>\n      <td>22</td>\n      <td>4</td>\n      <td>201490</td>\n      <td>9</td>\n      <td>4</td>\n      <td>1</td>\n      <td>3</td>\n      <td>4</td>\n      <td>1</td>\n      <td>0</td>\n      <td>0</td>\n      <td>20</td>\n      <td>39</td>\n      <td>0</td>\n    </tr>\n    <tr>\n      <th>48841</th>\n      <td>52</td>\n      <td>5</td>\n      <td>287927</td>\n      <td>9</td>\n      <td>2</td>\n      <td>4</td>\n      <td>5</td>\n      <td>4</td>\n      <td>0</td>\n      <td>15024</td>\n      <td>0</td>\n      <td>40</td>\n      <td>39</td>\n      <td>1</td>\n    </tr>\n  </tbody>\n</table>\n<p>46748 rows × 14 columns</p>\n</div>"
          },
          "metadata": {}
        }
      ],
      "execution_count": null
    },
    {
      "id": "e2f3e9e8-aa0b-4798-9b38-624725c0ff10",
      "cell_type": "code",
      "source": [
        "x=data.drop(columns=['income'])\n",
        "y=data['income']\n",
        "x"
      ],
      "metadata": {
        "trusted": true,
        "id": "e2f3e9e8-aa0b-4798-9b38-624725c0ff10",
        "outputId": "0ba56259-bbb9-434c-8d6b-843ae643b7be"
      },
      "outputs": [
        {
          "execution_count": 63,
          "output_type": "execute_result",
          "data": {
            "text/plain": "       age  workclass  fnlwgt  educational-num  marital-status  occupation  \\\n0       25          4  226802                7               4           7   \n1       38          4   89814                9               2           5   \n2       28          2  336951               12               2          11   \n3       44          4  160323               10               2           7   \n4       18          0  103497               10               4           0   \n...    ...        ...     ...              ...             ...         ...   \n48837   27          4  257302               12               2          13   \n48838   40          4  154374                9               2           7   \n48839   58          4  151910                9               6           1   \n48840   22          4  201490                9               4           1   \n48841   52          5  287927                9               2           4   \n\n       relationship  race  gender  capital-gain  capital-loss  hours-per-week  \\\n0                 3     2       1             0             0              40   \n1                 0     4       1             0             0              50   \n2                 0     4       1             0             0              40   \n3                 0     2       1          7688             0              40   \n4                 3     4       0             0             0              30   \n...             ...   ...     ...           ...           ...             ...   \n48837             5     4       0             0             0              38   \n48838             0     4       1             0             0              40   \n48839             4     4       0             0             0              40   \n48840             3     4       1             0             0              20   \n48841             5     4       0         15024             0              40   \n\n       native-country  \n0                  39  \n1                  39  \n2                  39  \n3                  39  \n4                  39  \n...               ...  \n48837              39  \n48838              39  \n48839              39  \n48840              39  \n48841              39  \n\n[46748 rows x 13 columns]",
            "text/html": "<div>\n<style scoped>\n    .dataframe tbody tr th:only-of-type {\n        vertical-align: middle;\n    }\n\n    .dataframe tbody tr th {\n        vertical-align: top;\n    }\n\n    .dataframe thead th {\n        text-align: right;\n    }\n</style>\n<table border=\"1\" class=\"dataframe\">\n  <thead>\n    <tr style=\"text-align: right;\">\n      <th></th>\n      <th>age</th>\n      <th>workclass</th>\n      <th>fnlwgt</th>\n      <th>educational-num</th>\n      <th>marital-status</th>\n      <th>occupation</th>\n      <th>relationship</th>\n      <th>race</th>\n      <th>gender</th>\n      <th>capital-gain</th>\n      <th>capital-loss</th>\n      <th>hours-per-week</th>\n      <th>native-country</th>\n    </tr>\n  </thead>\n  <tbody>\n    <tr>\n      <th>0</th>\n      <td>25</td>\n      <td>4</td>\n      <td>226802</td>\n      <td>7</td>\n      <td>4</td>\n      <td>7</td>\n      <td>3</td>\n      <td>2</td>\n      <td>1</td>\n      <td>0</td>\n      <td>0</td>\n      <td>40</td>\n      <td>39</td>\n    </tr>\n    <tr>\n      <th>1</th>\n      <td>38</td>\n      <td>4</td>\n      <td>89814</td>\n      <td>9</td>\n      <td>2</td>\n      <td>5</td>\n      <td>0</td>\n      <td>4</td>\n      <td>1</td>\n      <td>0</td>\n      <td>0</td>\n      <td>50</td>\n      <td>39</td>\n    </tr>\n    <tr>\n      <th>2</th>\n      <td>28</td>\n      <td>2</td>\n      <td>336951</td>\n      <td>12</td>\n      <td>2</td>\n      <td>11</td>\n      <td>0</td>\n      <td>4</td>\n      <td>1</td>\n      <td>0</td>\n      <td>0</td>\n      <td>40</td>\n      <td>39</td>\n    </tr>\n    <tr>\n      <th>3</th>\n      <td>44</td>\n      <td>4</td>\n      <td>160323</td>\n      <td>10</td>\n      <td>2</td>\n      <td>7</td>\n      <td>0</td>\n      <td>2</td>\n      <td>1</td>\n      <td>7688</td>\n      <td>0</td>\n      <td>40</td>\n      <td>39</td>\n    </tr>\n    <tr>\n      <th>4</th>\n      <td>18</td>\n      <td>0</td>\n      <td>103497</td>\n      <td>10</td>\n      <td>4</td>\n      <td>0</td>\n      <td>3</td>\n      <td>4</td>\n      <td>0</td>\n      <td>0</td>\n      <td>0</td>\n      <td>30</td>\n      <td>39</td>\n    </tr>\n    <tr>\n      <th>...</th>\n      <td>...</td>\n      <td>...</td>\n      <td>...</td>\n      <td>...</td>\n      <td>...</td>\n      <td>...</td>\n      <td>...</td>\n      <td>...</td>\n      <td>...</td>\n      <td>...</td>\n      <td>...</td>\n      <td>...</td>\n      <td>...</td>\n    </tr>\n    <tr>\n      <th>48837</th>\n      <td>27</td>\n      <td>4</td>\n      <td>257302</td>\n      <td>12</td>\n      <td>2</td>\n      <td>13</td>\n      <td>5</td>\n      <td>4</td>\n      <td>0</td>\n      <td>0</td>\n      <td>0</td>\n      <td>38</td>\n      <td>39</td>\n    </tr>\n    <tr>\n      <th>48838</th>\n      <td>40</td>\n      <td>4</td>\n      <td>154374</td>\n      <td>9</td>\n      <td>2</td>\n      <td>7</td>\n      <td>0</td>\n      <td>4</td>\n      <td>1</td>\n      <td>0</td>\n      <td>0</td>\n      <td>40</td>\n      <td>39</td>\n    </tr>\n    <tr>\n      <th>48839</th>\n      <td>58</td>\n      <td>4</td>\n      <td>151910</td>\n      <td>9</td>\n      <td>6</td>\n      <td>1</td>\n      <td>4</td>\n      <td>4</td>\n      <td>0</td>\n      <td>0</td>\n      <td>0</td>\n      <td>40</td>\n      <td>39</td>\n    </tr>\n    <tr>\n      <th>48840</th>\n      <td>22</td>\n      <td>4</td>\n      <td>201490</td>\n      <td>9</td>\n      <td>4</td>\n      <td>1</td>\n      <td>3</td>\n      <td>4</td>\n      <td>1</td>\n      <td>0</td>\n      <td>0</td>\n      <td>20</td>\n      <td>39</td>\n    </tr>\n    <tr>\n      <th>48841</th>\n      <td>52</td>\n      <td>5</td>\n      <td>287927</td>\n      <td>9</td>\n      <td>2</td>\n      <td>4</td>\n      <td>5</td>\n      <td>4</td>\n      <td>0</td>\n      <td>15024</td>\n      <td>0</td>\n      <td>40</td>\n      <td>39</td>\n    </tr>\n  </tbody>\n</table>\n<p>46748 rows × 13 columns</p>\n</div>"
          },
          "metadata": {}
        }
      ],
      "execution_count": null
    },
    {
      "id": "e95279a4-ff1e-4f69-94e5-cfc00c5bf9f6",
      "cell_type": "code",
      "source": [
        "from sklearn.pipeline import Pipeline\n",
        "from sklearn.model_selection import train_test_split\n",
        "from sklearn.metrics import accuracy_score, classification_report\n",
        "from sklearn.linear_model import LogisticRegression\n",
        "from sklearn.ensemble import RandomForestClassifier, GradientBoostingClassifier\n",
        "from sklearn.neighbors import KNeighborsClassifier\n",
        "from sklearn.svm import SVC\n",
        "from sklearn.preprocessing import StandardScaler, OneHotEncoder\n",
        "\n",
        "X_train, X_test, y_train, y_test = train_test_split(x, y, test_size=0.2, random_state=42)\n",
        "\n",
        "models = {\n",
        "    \"LogisticRegression\": LogisticRegression(),\n",
        "    \"RandomForest\": RandomForestClassifier(),\n",
        "    \"KNN\": KNeighborsClassifier(),\n",
        "    \"SVM\": SVC(),\n",
        "    \"GradientBoosting\": GradientBoostingClassifier()\n",
        "}\n",
        "\n",
        "results = {}\n",
        "\n",
        "for name, model in models.items():\n",
        "    pipe = Pipeline([\n",
        "        ('scaler', StandardScaler()),\n",
        "        ('model', model)\n",
        "    ])\n",
        "\n",
        "    pipe.fit(X_train, y_train)\n",
        "    y_pred = pipe.predict(X_test)\n",
        "    acc = accuracy_score(y_test, y_pred)\n",
        "    results[name] = acc\n",
        "    print(f\"{name} Accuracy: {acc:.4f}\")\n",
        "    print(classification_report(y_test, y_pred))"
      ],
      "metadata": {
        "trusted": true,
        "id": "e95279a4-ff1e-4f69-94e5-cfc00c5bf9f6",
        "outputId": "837dddd2-2836-4ea7-b5ba-12011c6cd3a8"
      },
      "outputs": [
        {
          "name": "stdout",
          "output_type": "stream",
          "text": "LogisticRegression Accuracy: 0.8241\n              precision    recall  f1-score   support\n\n           0       0.84      0.95      0.89      7078\n           1       0.72      0.45      0.55      2272\n\n    accuracy                           0.82      9350\n   macro avg       0.78      0.70      0.72      9350\nweighted avg       0.81      0.82      0.81      9350\n\nRandomForest Accuracy: 0.8527\n              precision    recall  f1-score   support\n\n           0       0.88      0.93      0.91      7078\n           1       0.73      0.62      0.67      2272\n\n    accuracy                           0.85      9350\n   macro avg       0.81      0.77      0.79      9350\nweighted avg       0.85      0.85      0.85      9350\n\nKNN Accuracy: 0.8293\n              precision    recall  f1-score   support\n\n           0       0.87      0.91      0.89      7078\n           1       0.67      0.59      0.63      2272\n\n    accuracy                           0.83      9350\n   macro avg       0.77      0.75      0.76      9350\nweighted avg       0.82      0.83      0.83      9350\n\nSVM Accuracy: 0.8506\n              precision    recall  f1-score   support\n\n           0       0.87      0.95      0.91      7078\n           1       0.77      0.55      0.64      2272\n\n    accuracy                           0.85      9350\n   macro avg       0.82      0.75      0.77      9350\nweighted avg       0.84      0.85      0.84      9350\n\nGradientBoosting Accuracy: 0.8649\n              precision    recall  f1-score   support\n\n           0       0.88      0.95      0.91      7078\n           1       0.80      0.60      0.68      2272\n\n    accuracy                           0.86      9350\n   macro avg       0.84      0.77      0.80      9350\nweighted avg       0.86      0.86      0.86      9350\n\n"
        }
      ],
      "execution_count": null
    },
    {
      "id": "1b09a1e8-3a3c-44f5-8cac-16f24c65f152",
      "cell_type": "code",
      "source": [
        "import matplotlib.pyplot as plt\n",
        "plt.bar(results.keys(), results.values(), color='skyblue')\n",
        "plt.ylabel('Accuracy Score')\n",
        "plt.title('Model Comparison')\n",
        "plt.xticks(rotation=45)\n",
        "plt.grid(True)\n",
        "plt.show()"
      ],
      "metadata": {
        "trusted": true,
        "id": "1b09a1e8-3a3c-44f5-8cac-16f24c65f152",
        "outputId": "29b2473a-d279-4379-a689-79103cef76e0"
      },
      "outputs": [
        {
          "output_type": "display_data",
          "data": {
            "text/plain": "<Figure size 640x480 with 1 Axes>",
            "image/png": "[encoded data removed]"
          },
          "metadata": {}
        }
      ],
      "execution_count": null
    },
    {
      "id": "2a283f66-f69e-4f82-80e6-fefb58562a37",
      "cell_type": "code",
      "source": [
        "from sklearn.linear_model import LogisticRegression\n",
        "from sklearn.ensemble import RandomForestClassifier, GradientBoostingClassifier\n",
        "from sklearn.neighbors import KNeighborsClassifier\n",
        "from sklearn.svm import SVC\n",
        "from sklearn.model_selection import train_test_split\n",
        "from sklearn.metrics import accuracy_score\n",
        "import joblib\n",
        "\n",
        "# Train-test split\n",
        "X_train, X_test, y_train, y_test = train_test_split(x, y, test_size=0.2, random_state=42)\n",
        "\n",
        "# Define models\n",
        "models = {\n",
        "    \"LogisticRegression\": LogisticRegression(max_iter=1000),\n",
        "    \"RandomForest\": RandomForestClassifier(),\n",
        "    \"KNN\": KNeighborsClassifier(),\n",
        "    \"SVM\": SVC(),\n",
        "    \"GradientBoosting\": GradientBoostingClassifier()\n",
        "}\n",
        "\n",
        "results = {}\n",
        "\n",
        "# Train and evaluate\n",
        "for name, model in models.items():\n",
        "    model.fit(X_train, y_train)\n",
        "    preds = model.predict(X_test)\n",
        "    acc = accuracy_score(y_test, preds)\n",
        "    results[name] = acc\n",
        "    print(f\"{name}: {acc:.4f}\")\n",
        "\n",
        "# Get best model\n",
        "best_model_name = max(results, key=results.get)\n",
        "best_model = models[best_model_name]\n",
        "print(f\"\\n✅ Best model: {best_model_name} with accuracy {results[best_model_name]:.4f}\")\n",
        "\n",
        "# Save the best model\n",
        "joblib.dump(best_model, \"best_model.pkl\")\n",
        "print(\"✅ Saved best model as best_model.pkl\")"
      ],
      "metadata": {
        "trusted": true,
        "id": "2a283f66-f69e-4f82-80e6-fefb58562a37",
        "outputId": "e0657d8a-3d6e-4a5c-cd9c-2a670c8d4dc0"
      },
      "outputs": [
        {
          "name": "stderr",
          "output_type": "stream",
          "text": "/lib/python3.12/site-packages/sklearn/linear_model/_logistic.py:465: ConvergenceWarning: lbfgs failed to converge (status=1):\nSTOP: TOTAL NO. of ITERATIONS REACHED LIMIT.\n\nIncrease the number of iterations (max_iter) or scale the data as shown in:\n    https://scikit-learn.org/stable/modules/preprocessing.html\nPlease also refer to the documentation for alternative solver options:\n    https://scikit-learn.org/stable/modules/linear_model.html#logistic-regression\n  n_iter_i = _check_optimize_result(\n"
        },
        {
          "name": "stdout",
          "output_type": "stream",
          "text": "LogisticRegression: 0.8022\nRandomForest: 0.8537\nKNN: 0.7756\nSVM: 0.7954\nGradientBoosting: 0.8649\n\n✅ Best model: GradientBoosting with accuracy 0.8649\n✅ Saved best model as best_model.pkl\n"
        }
      ],
      "execution_count": null
    },
    {
      "id": "33f08477-9384-4c48-832e-7bfee7229829",
      "cell_type": "code",
      "source": [
        "%%writefile app.py\n",
        "import streamlit as st\n",
        "import pandas as pd\n",
        "import joblib\n",
        "\n",
        "# Load the trained model\n",
        "model = joblib.load(\"best_model.pkl\")\n",
        "\n",
        "st.set_page_config(page_title=\"Employee Salary Classification\", page_icon=\"💼\", layout=\"centered\")\n",
        "\n",
        "st.title(\"💼 Employee Salary Classification App\")\n",
        "st.markdown(\"Predict whether an employee earns >50K or ≤50K based on input features.\")\n",
        "\n",
        "# Sidebar inputs (these must match your training feature columns)\n",
        "st.sidebar.header(\"Input Employee Details\")\n",
        "\n",
        "# ✨ Replace these fields with your dataset's actual input columns\n",
        "age = st.sidebar.slider(\"Age\", 18, 65, 30)\n",
        "education = st.sidebar.selectbox(\"Education Level\", [\n",
        "    \"Bachelors\", \"Masters\", \"PhD\", \"HS-grad\", \"Assoc\", \"Some-college\"\n",
        "])\n",
        "occupation = st.sidebar.selectbox(\"Job Role\", [\n",
        "    \"Tech-support\", \"Craft-repair\", \"Other-service\", \"Sales\",\n",
        "    \"Exec-managerial\", \"Prof-specialty\", \"Handlers-cleaners\", \"Machine-op-inspct\",\n",
        "    \"Adm-clerical\", \"Farming-fishing\", \"Transport-moving\", \"Priv-house-serv\",\n",
        "    \"Protective-serv\", \"Armed-Forces\"\n",
        "])\n",
        "hours_per_week = st.sidebar.slider(\"Hours per week\", 1, 80, 40)\n",
        "experience = st.sidebar.slider(\"Years of Experience\", 0, 40, 5)\n",
        "\n",
        "# Build input DataFrame (⚠️ must match preprocessing of your training data)\n",
        "input_df = pd.DataFrame({\n",
        "    'age': [age],\n",
        "    'education': [education],\n",
        "    'occupation': [occupation],\n",
        "    'hours-per-week': [hours_per_week],\n",
        "    'experience': [experience]\n",
        "})\n",
        "\n",
        "st.write(\"### 🔎 Input Data\")\n",
        "st.write(input_df)\n",
        "\n",
        "# Predict button\n",
        "if st.button(\"Predict Salary Class\"):\n",
        "    prediction = model.predict(input_df)\n",
        "    st.success(f\"✅ Prediction: {prediction[0]}\")\n",
        "\n",
        "# Batch prediction\n",
        "st.markdown(\"---\")\n",
        "st.markdown(\"#### 📂 Batch Prediction\")\n",
        "uploaded_file = st.file_uploader(\"Upload a CSV file for batch prediction\", type=\"csv\")\n",
        "\n",
        "if uploaded_file is not None:\n",
        "    batch_data = pd.read_csv(uploaded_file)\n",
        "    st.write(\"Uploaded data preview:\", batch_data.head())\n",
        "    batch_preds = model.predict(batch_data)\n",
        "    batch_data['PredictedClass'] = batch_preds\n",
        "    st.write(\"✅ Predictions:\")\n",
        "    st.write(batch_data.head())\n",
        "    csv = batch_data.to_csv(index=False).encode('utf-8')\n",
        "    st.download_button(\"Download Predictions CSV\", csv, file_name='predicted_classes.csv', mime='text/csv')\n"
      ],
      "metadata": {
        "trusted": true,
        "id": "33f08477-9384-4c48-832e-7bfee7229829",
        "outputId": "e0f93126-65c4-4cb3-bb2c-b2f1c59f0a11"
      },
      "outputs": [
        {
          "name": "stdout",
          "output_type": "stream",
          "text": "Writing app.py\n"
        }
      ],
      "execution_count": null
    },
    {
      "id": "34c42c2f-c08b-4b65-ad51-d5b6b6fd9610",
      "cell_type": "code",
      "source": [
        "pip install streamlit\n"
      ],
      "metadata": {
        "trusted": true,
        "colab": {
          "base_uri": "https://localhost:8080/"
        },
        "id": "34c42c2f-c08b-4b65-ad51-d5b6b6fd9610",
        "outputId": "30b6fe18-42d6-4dbc-8f7e-01b1622c3cbf"
      },
      "outputs": [
        {
          "output_type": "stream",
          "name": "stdout",
          "text": [
            "Collecting streamlit\n",
            "  Downloading streamlit-1.47.0-py3-none-any.whl.metadata (9.0 kB)\n",
            "Requirement already satisfied: altair<6,>=4.0 in /usr/local/lib/python3.11/dist-packages (from streamlit) (5.5.0)\n",
            "Requirement already satisfied: blinker<2,>=1.5.0 in /usr/local/lib/python3.11/dist-packages (from streamlit) (1.9.0)\n",
            "Requirement already satisfied: cachetools<7,>=4.0 in /usr/local/lib/python3.11/dist-packages (from streamlit) (5.5.2)\n",
            "Requirement already satisfied: click<9,>=7.0 in /usr/local/lib/python3.11/dist-packages (from streamlit) (8.2.1)\n",
            "Requirement already satisfied: numpy<3,>=1.23 in /usr/local/lib/python3.11/dist-packages (from streamlit) (2.0.2)\n",
            "Requirement already satisfied: packaging<26,>=20 in /usr/local/lib/python3.11/dist-packages (from streamlit) (25.0)\n",
            "Requirement already satisfied: pandas<3,>=1.4.0 in /usr/local/lib/python3.11/dist-packages (from streamlit) (2.2.2)\n",
            "Requirement already satisfied: pillow<12,>=7.1.0 in /usr/local/lib/python3.11/dist-packages (from streamlit) (11.2.1)\n",
            "Requirement already satisfied: protobuf<7,>=3.20 in /usr/local/lib/python3.11/dist-packages (from streamlit) (5.29.5)\n",
            "Requirement already satisfied: pyarrow>=7.0 in /usr/local/lib/python3.11/dist-packages (from streamlit) (18.1.0)\n",
            "Requirement already satisfied: requests<3,>=2.27 in /usr/local/lib/python3.11/dist-packages (from streamlit) (2.32.3)\n",
            "Requirement already satisfied: tenacity<10,>=8.1.0 in /usr/local/lib/python3.11/dist-packages (from streamlit) (8.5.0)\n",
            "Requirement already satisfied: toml<2,>=0.10.1 in /usr/local/lib/python3.11/dist-packages (from streamlit) (0.10.2)\n",
            "Requirement already satisfied: typing-extensions<5,>=4.4.0 in /usr/local/lib/python3.11/dist-packages (from streamlit) (4.14.1)\n",
            "Collecting watchdog<7,>=2.1.5 (from streamlit)\n",
            "  Downloading watchdog-6.0.0-py3-none-manylinux2014_x86_64.whl.metadata (44 kB)\n",
            "\u001b[2K     \u001b[90m━━━━━━━━━━━━━━━━━━━━━━━━━━━━━━━━━━━━━━━━\u001b[0m \u001b[32m44.3/44.3 kB\u001b[0m \u001b[31m2.0 MB/s\u001b[0m eta \u001b[36m0:00:00\u001b[0m\n",
            "\u001b[?25hRequirement already satisfied: gitpython!=3.1.19,<4,>=3.0.7 in /usr/local/lib/python3.11/dist-packages (from streamlit) (3.1.44)\n",
            "Collecting pydeck<1,>=0.8.0b4 (from streamlit)\n",
            "  Downloading pydeck-0.9.1-py2.py3-none-any.whl.metadata (4.1 kB)\n",
            "Requirement already satisfied: tornado!=6.5.0,<7,>=6.0.3 in /usr/local/lib/python3.11/dist-packages (from streamlit) (6.4.2)\n",
            "Requirement already satisfied: jinja2 in /usr/local/lib/python3.11/dist-packages (from altair<6,>=4.0->streamlit) (3.1.6)\n",
            "Requirement already satisfied: jsonschema>=3.0 in /usr/local/lib/python3.11/dist-packages (from altair<6,>=4.0->streamlit) (4.24.0)\n",
            "Requirement already satisfied: narwhals>=1.14.2 in /usr/local/lib/python3.11/dist-packages (from altair<6,>=4.0->streamlit) (1.47.0)\n",
            "Requirement already satisfied: gitdb<5,>=4.0.1 in /usr/local/lib/python3.11/dist-packages (from gitpython!=3.1.19,<4,>=3.0.7->streamlit) (4.0.12)\n",
            "Requirement already satisfied: python-dateutil>=2.8.2 in /usr/local/lib/python3.11/dist-packages (from pandas<3,>=1.4.0->streamlit) (2.9.0.post0)\n",
            "Requirement already satisfied: pytz>=2020.1 in /usr/local/lib/python3.11/dist-packages (from pandas<3,>=1.4.0->streamlit) (2025.2)\n",
            "Requirement already satisfied: tzdata>=2022.7 in /usr/local/lib/python3.11/dist-packages (from pandas<3,>=1.4.0->streamlit) (2025.2)\n",
            "Requirement already satisfied: charset-normalizer<4,>=2 in /usr/local/lib/python3.11/dist-packages (from requests<3,>=2.27->streamlit) (3.4.2)\n",
            "Requirement already satisfied: idna<4,>=2.5 in /usr/local/lib/python3.11/dist-packages (from requests<3,>=2.27->streamlit) (3.10)\n",
            "Requirement already satisfied: urllib3<3,>=1.21.1 in /usr/local/lib/python3.11/dist-packages (from requests<3,>=2.27->streamlit) (2.4.0)\n",
            "Requirement already satisfied: certifi>=2017.4.17 in /usr/local/lib/python3.11/dist-packages (from requests<3,>=2.27->streamlit) (2025.7.14)\n",
            "Requirement already satisfied: smmap<6,>=3.0.1 in /usr/local/lib/python3.11/dist-packages (from gitdb<5,>=4.0.1->gitpython!=3.1.19,<4,>=3.0.7->streamlit) (5.0.2)\n",
            "Requirement already satisfied: MarkupSafe>=2.0 in /usr/local/lib/python3.11/dist-packages (from jinja2->altair<6,>=4.0->streamlit) (3.0.2)\n",
            "Requirement already satisfied: attrs>=22.2.0 in /usr/local/lib/python3.11/dist-packages (from jsonschema>=3.0->altair<6,>=4.0->streamlit) (25.3.0)\n",
            "Requirement already satisfied: jsonschema-specifications>=2023.03.6 in /usr/local/lib/python3.11/dist-packages (from jsonschema>=3.0->altair<6,>=4.0->streamlit) (2025.4.1)\n",
            "Requirement already satisfied: referencing>=0.28.4 in /usr/local/lib/python3.11/dist-packages (from jsonschema>=3.0->altair<6,>=4.0->streamlit) (0.36.2)\n",
            "Requirement already satisfied: rpds-py>=0.7.1 in /usr/local/lib/python3.11/dist-packages (from jsonschema>=3.0->altair<6,>=4.0->streamlit) (0.26.0)\n",
            "Requirement already satisfied: six>=1.5 in /usr/local/lib/python3.11/dist-packages (from python-dateutil>=2.8.2->pandas<3,>=1.4.0->streamlit) (1.17.0)\n",
            "Downloading streamlit-1.47.0-py3-none-any.whl (9.9 MB)\n",
            "\u001b[2K   \u001b[90m━━━━━━━━━━━━━━━━━━━━━━━━━━━━━━━━━━━━━━━━\u001b[0m \u001b[32m9.9/9.9 MB\u001b[0m \u001b[31m59.1 MB/s\u001b[0m eta \u001b[36m0:00:00\u001b[0m\n",
            "\u001b[?25hDownloading pydeck-0.9.1-py2.py3-none-any.whl (6.9 MB)\n",
            "\u001b[2K   \u001b[90m━━━━━━━━━━━━━━━━━━━━━━━━━━━━━━━━━━━━━━━━\u001b[0m \u001b[32m6.9/6.9 MB\u001b[0m \u001b[31m114.6 MB/s\u001b[0m eta \u001b[36m0:00:00\u001b[0m\n",
            "\u001b[?25hDownloading watchdog-6.0.0-py3-none-manylinux2014_x86_64.whl (79 kB)\n",
            "\u001b[2K   \u001b[90m━━━━━━━━━━━━━━━━━━━━━━━━━━━━━━━━━━━━━━━━\u001b[0m \u001b[32m79.1/79.1 kB\u001b[0m \u001b[31m8.5 MB/s\u001b[0m eta \u001b[36m0:00:00\u001b[0m\n",
            "\u001b[?25hInstalling collected packages: watchdog, pydeck, streamlit\n",
            "Successfully installed pydeck-0.9.1 streamlit-1.47.0 watchdog-6.0.0\n"
          ]
        }
      ],
      "execution_count": null
    },
    {
      "cell_type": "code",
      "source": [
        "!streamlit run app.py"
      ],
      "metadata": {
        "colab": {
          "base_uri": "https://localhost:8080/"
        },
        "id": "7O0Suq3JqEme",
        "outputId": "74de3ecc-6d10-4819-c76a-4976982c19b7"
      },
      "id": "7O0Suq3JqEme",
      "execution_count": null,
      "outputs": [
        {
          "output_type": "stream",
          "name": "stdout",
          "text": [
            "Usage: streamlit run [OPTIONS] TARGET [ARGS]...\n",
            "Try 'streamlit run --help' for help.\n",
            "\n",
            "Error: Invalid value: File does not exist: app.py\n"
          ]
        }
      ]
    },
    {
      "cell_type": "code",
      "source": [
        "!pip install streamlit pyngrok\n"
      ],
      "metadata": {
        "colab": {
          "base_uri": "https://localhost:8080/"
        },
        "id": "W5gXXzPnqMG4",
        "outputId": "77d96f25-0a73-4def-b8b6-bf704645dda8"
      },
      "id": "W5gXXzPnqMG4",
      "execution_count": null,
      "outputs": [
        {
          "output_type": "stream",
          "name": "stdout",
          "text": [
            "Requirement already satisfied: streamlit in /usr/local/lib/python3.11/dist-packages (1.47.0)\n",
            "Collecting pyngrok\n",
            "  Downloading pyngrok-7.2.12-py3-none-any.whl.metadata (9.4 kB)\n",
            "Requirement already satisfied: altair<6,>=4.0 in /usr/local/lib/python3.11/dist-packages (from streamlit) (5.5.0)\n",
            "Requirement already satisfied: blinker<2,>=1.5.0 in /usr/local/lib/python3.11/dist-packages (from streamlit) (1.9.0)\n",
            "Requirement already satisfied: cachetools<7,>=4.0 in /usr/local/lib/python3.11/dist-packages (from streamlit) (5.5.2)\n",
            "Requirement already satisfied: click<9,>=7.0 in /usr/local/lib/python3.11/dist-packages (from streamlit) (8.2.1)\n",
            "Requirement already satisfied: numpy<3,>=1.23 in /usr/local/lib/python3.11/dist-packages (from streamlit) (2.0.2)\n",
            "Requirement already satisfied: packaging<26,>=20 in /usr/local/lib/python3.11/dist-packages (from streamlit) (25.0)\n",
            "Requirement already satisfied: pandas<3,>=1.4.0 in /usr/local/lib/python3.11/dist-packages (from streamlit) (2.2.2)\n",
            "Requirement already satisfied: pillow<12,>=7.1.0 in /usr/local/lib/python3.11/dist-packages (from streamlit) (11.2.1)\n",
            "Requirement already satisfied: protobuf<7,>=3.20 in /usr/local/lib/python3.11/dist-packages (from streamlit) (5.29.5)\n",
            "Requirement already satisfied: pyarrow>=7.0 in /usr/local/lib/python3.11/dist-packages (from streamlit) (18.1.0)\n",
            "Requirement already satisfied: requests<3,>=2.27 in /usr/local/lib/python3.11/dist-packages (from streamlit) (2.32.3)\n",
            "Requirement already satisfied: tenacity<10,>=8.1.0 in /usr/local/lib/python3.11/dist-packages (from streamlit) (8.5.0)\n",
            "Requirement already satisfied: toml<2,>=0.10.1 in /usr/local/lib/python3.11/dist-packages (from streamlit) (0.10.2)\n",
            "Requirement already satisfied: typing-extensions<5,>=4.4.0 in /usr/local/lib/python3.11/dist-packages (from streamlit) (4.14.1)\n",
            "Requirement already satisfied: watchdog<7,>=2.1.5 in /usr/local/lib/python3.11/dist-packages (from streamlit) (6.0.0)\n",
            "Requirement already satisfied: gitpython!=3.1.19,<4,>=3.0.7 in /usr/local/lib/python3.11/dist-packages (from streamlit) (3.1.44)\n",
            "Requirement already satisfied: pydeck<1,>=0.8.0b4 in /usr/local/lib/python3.11/dist-packages (from streamlit) (0.9.1)\n",
            "Requirement already satisfied: tornado!=6.5.0,<7,>=6.0.3 in /usr/local/lib/python3.11/dist-packages (from streamlit) (6.4.2)\n",
            "Requirement already satisfied: PyYAML>=5.1 in /usr/local/lib/python3.11/dist-packages (from pyngrok) (6.0.2)\n",
            "Requirement already satisfied: jinja2 in /usr/local/lib/python3.11/dist-packages (from altair<6,>=4.0->streamlit) (3.1.6)\n",
            "Requirement already satisfied: jsonschema>=3.0 in /usr/local/lib/python3.11/dist-packages (from altair<6,>=4.0->streamlit) (4.24.0)\n",
            "Requirement already satisfied: narwhals>=1.14.2 in /usr/local/lib/python3.11/dist-packages (from altair<6,>=4.0->streamlit) (1.47.0)\n",
            "Requirement already satisfied: gitdb<5,>=4.0.1 in /usr/local/lib/python3.11/dist-packages (from gitpython!=3.1.19,<4,>=3.0.7->streamlit) (4.0.12)\n",
            "Requirement already satisfied: python-dateutil>=2.8.2 in /usr/local/lib/python3.11/dist-packages (from pandas<3,>=1.4.0->streamlit) (2.9.0.post0)\n",
            "Requirement already satisfied: pytz>=2020.1 in /usr/local/lib/python3.11/dist-packages (from pandas<3,>=1.4.0->streamlit) (2025.2)\n",
            "Requirement already satisfied: tzdata>=2022.7 in /usr/local/lib/python3.11/dist-packages (from pandas<3,>=1.4.0->streamlit) (2025.2)\n",
            "Requirement already satisfied: charset-normalizer<4,>=2 in /usr/local/lib/python3.11/dist-packages (from requests<3,>=2.27->streamlit) (3.4.2)\n",
            "Requirement already satisfied: idna<4,>=2.5 in /usr/local/lib/python3.11/dist-packages (from requests<3,>=2.27->streamlit) (3.10)\n",
            "Requirement already satisfied: urllib3<3,>=1.21.1 in /usr/local/lib/python3.11/dist-packages (from requests<3,>=2.27->streamlit) (2.4.0)\n",
            "Requirement already satisfied: certifi>=2017.4.17 in /usr/local/lib/python3.11/dist-packages (from requests<3,>=2.27->streamlit) (2025.7.14)\n",
            "Requirement already satisfied: smmap<6,>=3.0.1 in /usr/local/lib/python3.11/dist-packages (from gitdb<5,>=4.0.1->gitpython!=3.1.19,<4,>=3.0.7->streamlit) (5.0.2)\n",
            "Requirement already satisfied: MarkupSafe>=2.0 in /usr/local/lib/python3.11/dist-packages (from jinja2->altair<6,>=4.0->streamlit) (3.0.2)\n",
            "Requirement already satisfied: attrs>=22.2.0 in /usr/local/lib/python3.11/dist-packages (from jsonschema>=3.0->altair<6,>=4.0->streamlit) (25.3.0)\n",
            "Requirement already satisfied: jsonschema-specifications>=2023.03.6 in /usr/local/lib/python3.11/dist-packages (from jsonschema>=3.0->altair<6,>=4.0->streamlit) (2025.4.1)\n",
            "Requirement already satisfied: referencing>=0.28.4 in /usr/local/lib/python3.11/dist-packages (from jsonschema>=3.0->altair<6,>=4.0->streamlit) (0.36.2)\n",
            "Requirement already satisfied: rpds-py>=0.7.1 in /usr/local/lib/python3.11/dist-packages (from jsonschema>=3.0->altair<6,>=4.0->streamlit) (0.26.0)\n",
            "Requirement already satisfied: six>=1.5 in /usr/local/lib/python3.11/dist-packages (from python-dateutil>=2.8.2->pandas<3,>=1.4.0->streamlit) (1.17.0)\n",
            "Downloading pyngrok-7.2.12-py3-none-any.whl (26 kB)\n",
            "Installing collected packages: pyngrok\n",
            "Successfully installed pyngrok-7.2.12\n"
          ]
        }
      ]
    },
    {
      "cell_type": "code",
      "source": [
        "from pyngrok import ngrok\n",
        "\n",
        "# Replace with your actual token\n",
        "ngrok.set_auth_token(\"308ZrVl2u9zQejisJYZYMzwZqEg_4CGgXBvqym2UXnqd9j8NU\")\n"
      ],
      "metadata": {
        "colab": {
          "base_uri": "https://localhost:8080/"
        },
        "id": "uzpMHYFqqVfr",
        "outputId": "cae14e9b-a2a3-4235-c393-99397b4da019"
      },
      "id": "uzpMHYFqqVfr",
      "execution_count": null,
      "outputs": [
        {
          "output_type": "stream",
          "name": "stdout",
          "text": []
        }
      ]
    },
    {
      "cell_type": "code",
      "source": [
        "from pyngrok import ngrok\n",
        "import threading\n",
        "\n",
        "# Set up ngrok tunnel to access Streamlit\n",
        "public_url = ngrok.connect(port=8501)\n",
        "print(\"🔗 Public Streamlit URL:\", public_url)\n",
        "\n",
        "# Launch Streamlit app in a thread\n",
        "def run_app():\n",
        "    !streamlit run app.py\n",
        "\n",
        "thread = threading.Thread(target=run_app)\n",
        "thread.start()\n"
      ],
      "metadata": {
        "colab": {
          "base_uri": "https://localhost:8080/",
          "height": 498
        },
        "id": "XcGw6-qGqe3a",
        "outputId": "ff55ad35-81c8-440e-c360-c032ad9a152a"
      },
      "id": "XcGw6-qGqe3a",
      "execution_count": null,
      "outputs": [
        {
          "output_type": "stream",
          "name": "stderr",
          "text": [
            "ERROR:pyngrok.process.ngrok:t=2025-07-20T11:49:34+0000 lvl=eror msg=\"failed to reconnect session\" obj=tunnels.session err=\"authentication failed: Your account is limited to 1 simultaneous ngrok agent sessions.\\nYou can run multiple simultaneous tunnels from a single agent session by defining the tunnels in your agent configuration file and starting them with the command `ngrok start --all`.\\nRead more about the agent configuration file: https://ngrok.com/docs/secure-tunnels/ngrok-agent/reference/config\\nYou can view your current agent sessions in the dashboard:\\nhttps://dashboard.ngrok.com/agents\\r\\n\\r\\nERR_NGROK_108\\r\\n\"\n"
          ]
        },
        {
          "output_type": "error",
          "ename": "PyngrokNgrokError",
          "evalue": "The ngrok process errored on start: authentication failed: Your account is limited to 1 simultaneous ngrok agent sessions.\\nYou can run multiple simultaneous tunnels from a single agent session by defining the tunnels in your agent configuration file and starting them with the command `ngrok start --all`.\\nRead more about the agent configuration file: https://ngrok.com/docs/secure-tunnels/ngrok-agent/reference/config\\nYou can view your current agent sessions in the dashboard:\\nhttps://dashboard.ngrok.com/agents\\r\\n\\r\\nERR_NGROK_108\\r\\n.",
          "traceback": [
            "\u001b[0;31m---------------------------------------------------------------------------\u001b[0m",
            "\u001b[0;31mPyngrokNgrokError\u001b[0m                         Traceback (most recent call last)",
            "\u001b[0;32m/tmp/ipython-input-8-2677394635.py\u001b[0m in \u001b[0;36m<cell line: 0>\u001b[0;34m()\u001b[0m\n\u001b[1;32m      3\u001b[0m \u001b[0;34m\u001b[0m\u001b[0m\n\u001b[1;32m      4\u001b[0m \u001b[0;31m# Set up ngrok tunnel to access Streamlit\u001b[0m\u001b[0;34m\u001b[0m\u001b[0;34m\u001b[0m\u001b[0m\n\u001b[0;32m----> 5\u001b[0;31m \u001b[0mpublic_url\u001b[0m \u001b[0;34m=\u001b[0m \u001b[0mngrok\u001b[0m\u001b[0;34m.\u001b[0m\u001b[0mconnect\u001b[0m\u001b[0;34m(\u001b[0m\u001b[0mport\u001b[0m\u001b[0;34m=\u001b[0m\u001b[0;36m8501\u001b[0m\u001b[0;34m)\u001b[0m\u001b[0;34m\u001b[0m\u001b[0;34m\u001b[0m\u001b[0m\n\u001b[0m\u001b[1;32m      6\u001b[0m \u001b[0mprint\u001b[0m\u001b[0;34m(\u001b[0m\u001b[0;34m\"🔗 Public Streamlit URL:\"\u001b[0m\u001b[0;34m,\u001b[0m \u001b[0mpublic_url\u001b[0m\u001b[0;34m)\u001b[0m\u001b[0;34m\u001b[0m\u001b[0;34m\u001b[0m\u001b[0m\n\u001b[1;32m      7\u001b[0m \u001b[0;34m\u001b[0m\u001b[0m\n",
            "\u001b[0;32m/usr/local/lib/python3.11/dist-packages/pyngrok/ngrok.py\u001b[0m in \u001b[0;36mconnect\u001b[0;34m(addr, proto, name, pyngrok_config, **options)\u001b[0m\n\u001b[1;32m    383\u001b[0m     \u001b[0mlogger\u001b[0m\u001b[0;34m.\u001b[0m\u001b[0minfo\u001b[0m\u001b[0;34m(\u001b[0m\u001b[0;34mf\"Opening tunnel named: {name}\"\u001b[0m\u001b[0;34m)\u001b[0m\u001b[0;34m\u001b[0m\u001b[0;34m\u001b[0m\u001b[0m\n\u001b[1;32m    384\u001b[0m \u001b[0;34m\u001b[0m\u001b[0m\n\u001b[0;32m--> 385\u001b[0;31m     \u001b[0mapi_url\u001b[0m \u001b[0;34m=\u001b[0m \u001b[0mget_ngrok_process\u001b[0m\u001b[0;34m(\u001b[0m\u001b[0mpyngrok_config\u001b[0m\u001b[0;34m)\u001b[0m\u001b[0;34m.\u001b[0m\u001b[0mapi_url\u001b[0m\u001b[0;34m\u001b[0m\u001b[0;34m\u001b[0m\u001b[0m\n\u001b[0m\u001b[1;32m    386\u001b[0m \u001b[0;34m\u001b[0m\u001b[0m\n\u001b[1;32m    387\u001b[0m     \u001b[0mlogger\u001b[0m\u001b[0;34m.\u001b[0m\u001b[0mdebug\u001b[0m\u001b[0;34m(\u001b[0m\u001b[0;34mf\"Creating tunnel with options: {options}\"\u001b[0m\u001b[0;34m)\u001b[0m\u001b[0;34m\u001b[0m\u001b[0;34m\u001b[0m\u001b[0m\n",
            "\u001b[0;32m/usr/local/lib/python3.11/dist-packages/pyngrok/ngrok.py\u001b[0m in \u001b[0;36mget_ngrok_process\u001b[0;34m(pyngrok_config)\u001b[0m\n\u001b[1;32m    201\u001b[0m     \u001b[0minstall_ngrok\u001b[0m\u001b[0;34m(\u001b[0m\u001b[0mpyngrok_config\u001b[0m\u001b[0;34m)\u001b[0m\u001b[0;34m\u001b[0m\u001b[0;34m\u001b[0m\u001b[0m\n\u001b[1;32m    202\u001b[0m \u001b[0;34m\u001b[0m\u001b[0m\n\u001b[0;32m--> 203\u001b[0;31m     \u001b[0;32mreturn\u001b[0m \u001b[0mprocess\u001b[0m\u001b[0;34m.\u001b[0m\u001b[0mget_process\u001b[0m\u001b[0;34m(\u001b[0m\u001b[0mpyngrok_config\u001b[0m\u001b[0;34m)\u001b[0m\u001b[0;34m\u001b[0m\u001b[0;34m\u001b[0m\u001b[0m\n\u001b[0m\u001b[1;32m    204\u001b[0m \u001b[0;34m\u001b[0m\u001b[0m\n\u001b[1;32m    205\u001b[0m \u001b[0;34m\u001b[0m\u001b[0m\n",
            "\u001b[0;32m/usr/local/lib/python3.11/dist-packages/pyngrok/process.py\u001b[0m in \u001b[0;36mget_process\u001b[0;34m(pyngrok_config)\u001b[0m\n\u001b[1;32m    269\u001b[0m         \u001b[0;32mreturn\u001b[0m \u001b[0m_current_processes\u001b[0m\u001b[0;34m[\u001b[0m\u001b[0mpyngrok_config\u001b[0m\u001b[0;34m.\u001b[0m\u001b[0mngrok_path\u001b[0m\u001b[0;34m]\u001b[0m\u001b[0;34m\u001b[0m\u001b[0;34m\u001b[0m\u001b[0m\n\u001b[1;32m    270\u001b[0m \u001b[0;34m\u001b[0m\u001b[0m\n\u001b[0;32m--> 271\u001b[0;31m     \u001b[0;32mreturn\u001b[0m \u001b[0m_start_process\u001b[0m\u001b[0;34m(\u001b[0m\u001b[0mpyngrok_config\u001b[0m\u001b[0;34m)\u001b[0m\u001b[0;34m\u001b[0m\u001b[0;34m\u001b[0m\u001b[0m\n\u001b[0m\u001b[1;32m    272\u001b[0m \u001b[0;34m\u001b[0m\u001b[0m\n\u001b[1;32m    273\u001b[0m \u001b[0;34m\u001b[0m\u001b[0m\n",
            "\u001b[0;32m/usr/local/lib/python3.11/dist-packages/pyngrok/process.py\u001b[0m in \u001b[0;36m_start_process\u001b[0;34m(pyngrok_config)\u001b[0m\n\u001b[1;32m    445\u001b[0m \u001b[0;34m\u001b[0m\u001b[0m\n\u001b[1;32m    446\u001b[0m         \u001b[0;32mif\u001b[0m \u001b[0mngrok_process\u001b[0m\u001b[0;34m.\u001b[0m\u001b[0mstartup_error\u001b[0m \u001b[0;32mis\u001b[0m \u001b[0;32mnot\u001b[0m \u001b[0;32mNone\u001b[0m\u001b[0;34m:\u001b[0m\u001b[0;34m\u001b[0m\u001b[0;34m\u001b[0m\u001b[0m\n\u001b[0;32m--> 447\u001b[0;31m             raise PyngrokNgrokError(f\"The ngrok process errored on start: {ngrok_process.startup_error}.\",\n\u001b[0m\u001b[1;32m    448\u001b[0m                                     \u001b[0mngrok_process\u001b[0m\u001b[0;34m.\u001b[0m\u001b[0mlogs\u001b[0m\u001b[0;34m,\u001b[0m\u001b[0;34m\u001b[0m\u001b[0;34m\u001b[0m\u001b[0m\n\u001b[1;32m    449\u001b[0m                                     ngrok_process.startup_error)\n",
            "\u001b[0;31mPyngrokNgrokError\u001b[0m: The ngrok process errored on start: authentication failed: Your account is limited to 1 simultaneous ngrok agent sessions.\\nYou can run multiple simultaneous tunnels from a single agent session by defining the tunnels in your agent configuration file and starting them with the command `ngrok start --all`.\\nRead more about the agent configuration file: https://ngrok.com/docs/secure-tunnels/ngrok-agent/reference/config\\nYou can view your current agent sessions in the dashboard:\\nhttps://dashboard.ngrok.com/agents\\r\\n\\r\\nERR_NGROK_108\\r\\n."
          ]
        }
      ]
    },
    {
      "cell_type": "code",
      "source": [
        "import threading\n",
        "\n",
        "public_url = ngrok.connect(port=8501)\n",
        "print(\"🔗 Public Streamlit URL:\", public_url)\n",
        "\n",
        "def run_app():\n",
        "    !streamlit run app.py\n",
        "\n",
        "thread = threading.Thread(target=run_app)\n",
        "thread.start()\n"
      ],
      "metadata": {
        "colab": {
          "base_uri": "https://localhost:8080/",
          "height": 498
        },
        "id": "35WBXrqzqis4",
        "outputId": "26829f13-7d2b-45e6-de32-be6ebf0718f2"
      },
      "id": "35WBXrqzqis4",
      "execution_count": null,
      "outputs": [
        {
          "output_type": "stream",
          "name": "stderr",
          "text": [
            "ERROR:pyngrok.process.ngrok:t=2025-07-20T11:49:59+0000 lvl=eror msg=\"failed to reconnect session\" obj=tunnels.session err=\"authentication failed: Your account is limited to 1 simultaneous ngrok agent sessions.\\nYou can run multiple simultaneous tunnels from a single agent session by defining the tunnels in your agent configuration file and starting them with the command `ngrok start --all`.\\nRead more about the agent configuration file: https://ngrok.com/docs/secure-tunnels/ngrok-agent/reference/config\\nYou can view your current agent sessions in the dashboard:\\nhttps://dashboard.ngrok.com/agents\\r\\n\\r\\nERR_NGROK_108\\r\\n\"\n"
          ]
        },
        {
          "output_type": "error",
          "ename": "PyngrokNgrokError",
          "evalue": "The ngrok process errored on start: authentication failed: Your account is limited to 1 simultaneous ngrok agent sessions.\\nYou can run multiple simultaneous tunnels from a single agent session by defining the tunnels in your agent configuration file and starting them with the command `ngrok start --all`.\\nRead more about the agent configuration file: https://ngrok.com/docs/secure-tunnels/ngrok-agent/reference/config\\nYou can view your current agent sessions in the dashboard:\\nhttps://dashboard.ngrok.com/agents\\r\\n\\r\\nERR_NGROK_108\\r\\n.",
          "traceback": [
            "\u001b[0;31m---------------------------------------------------------------------------\u001b[0m",
            "\u001b[0;31mPyngrokNgrokError\u001b[0m                         Traceback (most recent call last)",
            "\u001b[0;32m/tmp/ipython-input-9-4052030513.py\u001b[0m in \u001b[0;36m<cell line: 0>\u001b[0;34m()\u001b[0m\n\u001b[1;32m      1\u001b[0m \u001b[0;32mimport\u001b[0m \u001b[0mthreading\u001b[0m\u001b[0;34m\u001b[0m\u001b[0;34m\u001b[0m\u001b[0m\n\u001b[1;32m      2\u001b[0m \u001b[0;34m\u001b[0m\u001b[0m\n\u001b[0;32m----> 3\u001b[0;31m \u001b[0mpublic_url\u001b[0m \u001b[0;34m=\u001b[0m \u001b[0mngrok\u001b[0m\u001b[0;34m.\u001b[0m\u001b[0mconnect\u001b[0m\u001b[0;34m(\u001b[0m\u001b[0mport\u001b[0m\u001b[0;34m=\u001b[0m\u001b[0;36m8501\u001b[0m\u001b[0;34m)\u001b[0m\u001b[0;34m\u001b[0m\u001b[0;34m\u001b[0m\u001b[0m\n\u001b[0m\u001b[1;32m      4\u001b[0m \u001b[0mprint\u001b[0m\u001b[0;34m(\u001b[0m\u001b[0;34m\"🔗 Public Streamlit URL:\"\u001b[0m\u001b[0;34m,\u001b[0m \u001b[0mpublic_url\u001b[0m\u001b[0;34m)\u001b[0m\u001b[0;34m\u001b[0m\u001b[0;34m\u001b[0m\u001b[0m\n\u001b[1;32m      5\u001b[0m \u001b[0;34m\u001b[0m\u001b[0m\n",
            "\u001b[0;32m/usr/local/lib/python3.11/dist-packages/pyngrok/ngrok.py\u001b[0m in \u001b[0;36mconnect\u001b[0;34m(addr, proto, name, pyngrok_config, **options)\u001b[0m\n\u001b[1;32m    383\u001b[0m     \u001b[0mlogger\u001b[0m\u001b[0;34m.\u001b[0m\u001b[0minfo\u001b[0m\u001b[0;34m(\u001b[0m\u001b[0;34mf\"Opening tunnel named: {name}\"\u001b[0m\u001b[0;34m)\u001b[0m\u001b[0;34m\u001b[0m\u001b[0;34m\u001b[0m\u001b[0m\n\u001b[1;32m    384\u001b[0m \u001b[0;34m\u001b[0m\u001b[0m\n\u001b[0;32m--> 385\u001b[0;31m     \u001b[0mapi_url\u001b[0m \u001b[0;34m=\u001b[0m \u001b[0mget_ngrok_process\u001b[0m\u001b[0;34m(\u001b[0m\u001b[0mpyngrok_config\u001b[0m\u001b[0;34m)\u001b[0m\u001b[0;34m.\u001b[0m\u001b[0mapi_url\u001b[0m\u001b[0;34m\u001b[0m\u001b[0;34m\u001b[0m\u001b[0m\n\u001b[0m\u001b[1;32m    386\u001b[0m \u001b[0;34m\u001b[0m\u001b[0m\n\u001b[1;32m    387\u001b[0m     \u001b[0mlogger\u001b[0m\u001b[0;34m.\u001b[0m\u001b[0mdebug\u001b[0m\u001b[0;34m(\u001b[0m\u001b[0;34mf\"Creating tunnel with options: {options}\"\u001b[0m\u001b[0;34m)\u001b[0m\u001b[0;34m\u001b[0m\u001b[0;34m\u001b[0m\u001b[0m\n",
            "\u001b[0;32m/usr/local/lib/python3.11/dist-packages/pyngrok/ngrok.py\u001b[0m in \u001b[0;36mget_ngrok_process\u001b[0;34m(pyngrok_config)\u001b[0m\n\u001b[1;32m    201\u001b[0m     \u001b[0minstall_ngrok\u001b[0m\u001b[0;34m(\u001b[0m\u001b[0mpyngrok_config\u001b[0m\u001b[0;34m)\u001b[0m\u001b[0;34m\u001b[0m\u001b[0;34m\u001b[0m\u001b[0m\n\u001b[1;32m    202\u001b[0m \u001b[0;34m\u001b[0m\u001b[0m\n\u001b[0;32m--> 203\u001b[0;31m     \u001b[0;32mreturn\u001b[0m \u001b[0mprocess\u001b[0m\u001b[0;34m.\u001b[0m\u001b[0mget_process\u001b[0m\u001b[0;34m(\u001b[0m\u001b[0mpyngrok_config\u001b[0m\u001b[0;34m)\u001b[0m\u001b[0;34m\u001b[0m\u001b[0;34m\u001b[0m\u001b[0m\n\u001b[0m\u001b[1;32m    204\u001b[0m \u001b[0;34m\u001b[0m\u001b[0m\n\u001b[1;32m    205\u001b[0m \u001b[0;34m\u001b[0m\u001b[0m\n",
            "\u001b[0;32m/usr/local/lib/python3.11/dist-packages/pyngrok/process.py\u001b[0m in \u001b[0;36mget_process\u001b[0;34m(pyngrok_config)\u001b[0m\n\u001b[1;32m    269\u001b[0m         \u001b[0;32mreturn\u001b[0m \u001b[0m_current_processes\u001b[0m\u001b[0;34m[\u001b[0m\u001b[0mpyngrok_config\u001b[0m\u001b[0;34m.\u001b[0m\u001b[0mngrok_path\u001b[0m\u001b[0;34m]\u001b[0m\u001b[0;34m\u001b[0m\u001b[0;34m\u001b[0m\u001b[0m\n\u001b[1;32m    270\u001b[0m \u001b[0;34m\u001b[0m\u001b[0m\n\u001b[0;32m--> 271\u001b[0;31m     \u001b[0;32mreturn\u001b[0m \u001b[0m_start_process\u001b[0m\u001b[0;34m(\u001b[0m\u001b[0mpyngrok_config\u001b[0m\u001b[0;34m)\u001b[0m\u001b[0;34m\u001b[0m\u001b[0;34m\u001b[0m\u001b[0m\n\u001b[0m\u001b[1;32m    272\u001b[0m \u001b[0;34m\u001b[0m\u001b[0m\n\u001b[1;32m    273\u001b[0m \u001b[0;34m\u001b[0m\u001b[0m\n",
            "\u001b[0;32m/usr/local/lib/python3.11/dist-packages/pyngrok/process.py\u001b[0m in \u001b[0;36m_start_process\u001b[0;34m(pyngrok_config)\u001b[0m\n\u001b[1;32m    445\u001b[0m \u001b[0;34m\u001b[0m\u001b[0m\n\u001b[1;32m    446\u001b[0m         \u001b[0;32mif\u001b[0m \u001b[0mngrok_process\u001b[0m\u001b[0;34m.\u001b[0m\u001b[0mstartup_error\u001b[0m \u001b[0;32mis\u001b[0m \u001b[0;32mnot\u001b[0m \u001b[0;32mNone\u001b[0m\u001b[0;34m:\u001b[0m\u001b[0;34m\u001b[0m\u001b[0;34m\u001b[0m\u001b[0m\n\u001b[0;32m--> 447\u001b[0;31m             raise PyngrokNgrokError(f\"The ngrok process errored on start: {ngrok_process.startup_error}.\",\n\u001b[0m\u001b[1;32m    448\u001b[0m                                     \u001b[0mngrok_process\u001b[0m\u001b[0;34m.\u001b[0m\u001b[0mlogs\u001b[0m\u001b[0;34m,\u001b[0m\u001b[0;34m\u001b[0m\u001b[0;34m\u001b[0m\u001b[0m\n\u001b[1;32m    449\u001b[0m                                     ngrok_process.startup_error)\n",
            "\u001b[0;31mPyngrokNgrokError\u001b[0m: The ngrok process errored on start: authentication failed: Your account is limited to 1 simultaneous ngrok agent sessions.\\nYou can run multiple simultaneous tunnels from a single agent session by defining the tunnels in your agent configuration file and starting them with the command `ngrok start --all`.\\nRead more about the agent configuration file: https://ngrok.com/docs/secure-tunnels/ngrok-agent/reference/config\\nYou can view your current agent sessions in the dashboard:\\nhttps://dashboard.ngrok.com/agents\\r\\n\\r\\nERR_NGROK_108\\r\\n."
          ]
        }
      ]
    },
    {
      "cell_type": "code",
      "source": [],
      "metadata": {
        "id": "FgFCYD3cq12w"
      },
      "id": "FgFCYD3cq12w",
      "execution_count": null,
      "outputs": []
    }
  ]
}